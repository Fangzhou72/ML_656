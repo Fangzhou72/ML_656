{
  "nbformat": 4,
  "nbformat_minor": 0,
  "metadata": {
    "kernelspec": {
      "display_name": "Python 3",
      "language": "python",
      "name": "python3"
    },
    "language_info": {
      "codemirror_mode": {
        "name": "ipython",
        "version": 3
      },
      "file_extension": ".py",
      "mimetype": "text/x-python",
      "name": "python",
      "nbconvert_exporter": "python",
      "pygments_lexer": "ipython3",
      "version": "3.8.3"
    },
    "colab": {
      "name": "Module1_WageRegressions.ipynb",
      "provenance": [],
      "include_colab_link": true
    }
  },
  "cells": [
    {
      "cell_type": "markdown",
      "metadata": {
        "id": "view-in-github",
        "colab_type": "text"
      },
      "source": [
        "<a href=\"https://colab.research.google.com/github/danielbauer1979/ML_656/blob/main/Module1_WageRegressions.ipynb\" target=\"_parent\"><img src=\"https://colab.research.google.com/assets/colab-badge.svg\" alt=\"Open In Colab\"/></a>"
      ]
    },
    {
      "cell_type": "code",
      "metadata": {
        "id": "XahgdBpGdXkF"
      },
      "source": [
        "import numpy as np \n",
        "import pandas as pd\n",
        "from sklearn.linear_model import LinearRegression\n",
        "import matplotlib.pyplot as plt\n",
        "import scipy.stats as st"
      ],
      "execution_count": 2,
      "outputs": []
    },
    {
      "cell_type": "code",
      "metadata": {
        "id": "gwN41ynLdXkG",
        "colab": {
          "base_uri": "https://localhost:8080/",
          "height": 204
        },
        "outputId": "2a99b002-5203-4b2d-bd57-42e7d3b95675"
      },
      "source": [
        "wage_data = pd.read_csv('Wages_1985_Current_Population_Survey.csv')\n",
        "wage_data.head() #syntax makes clear that data is an object!"
      ],
      "execution_count": 4,
      "outputs": [
        {
          "output_type": "execute_result",
          "data": {
            "text/html": [
              "<div>\n",
              "<style scoped>\n",
              "    .dataframe tbody tr th:only-of-type {\n",
              "        vertical-align: middle;\n",
              "    }\n",
              "\n",
              "    .dataframe tbody tr th {\n",
              "        vertical-align: top;\n",
              "    }\n",
              "\n",
              "    .dataframe thead th {\n",
              "        text-align: right;\n",
              "    }\n",
              "</style>\n",
              "<table border=\"1\" class=\"dataframe\">\n",
              "  <thead>\n",
              "    <tr style=\"text-align: right;\">\n",
              "      <th></th>\n",
              "      <th>Yrs_Ed</th>\n",
              "      <th>Sthrn_Rgn</th>\n",
              "      <th>Sex</th>\n",
              "      <th>Yrs_Exprnc</th>\n",
              "      <th>Union</th>\n",
              "      <th>Wage</th>\n",
              "      <th>Age</th>\n",
              "      <th>Race</th>\n",
              "      <th>Occup</th>\n",
              "      <th>Sect</th>\n",
              "      <th>Marr</th>\n",
              "    </tr>\n",
              "  </thead>\n",
              "  <tbody>\n",
              "    <tr>\n",
              "      <th>0</th>\n",
              "      <td>8</td>\n",
              "      <td>0</td>\n",
              "      <td>1</td>\n",
              "      <td>21</td>\n",
              "      <td>0</td>\n",
              "      <td>5.10</td>\n",
              "      <td>35</td>\n",
              "      <td>H</td>\n",
              "      <td>Other</td>\n",
              "      <td>Manf</td>\n",
              "      <td>1</td>\n",
              "    </tr>\n",
              "    <tr>\n",
              "      <th>1</th>\n",
              "      <td>9</td>\n",
              "      <td>0</td>\n",
              "      <td>1</td>\n",
              "      <td>42</td>\n",
              "      <td>0</td>\n",
              "      <td>4.95</td>\n",
              "      <td>57</td>\n",
              "      <td>W</td>\n",
              "      <td>Other</td>\n",
              "      <td>Manf</td>\n",
              "      <td>1</td>\n",
              "    </tr>\n",
              "    <tr>\n",
              "      <th>2</th>\n",
              "      <td>12</td>\n",
              "      <td>0</td>\n",
              "      <td>0</td>\n",
              "      <td>1</td>\n",
              "      <td>0</td>\n",
              "      <td>6.67</td>\n",
              "      <td>19</td>\n",
              "      <td>W</td>\n",
              "      <td>Other</td>\n",
              "      <td>Manf</td>\n",
              "      <td>0</td>\n",
              "    </tr>\n",
              "    <tr>\n",
              "      <th>3</th>\n",
              "      <td>12</td>\n",
              "      <td>0</td>\n",
              "      <td>0</td>\n",
              "      <td>4</td>\n",
              "      <td>0</td>\n",
              "      <td>4.00</td>\n",
              "      <td>22</td>\n",
              "      <td>W</td>\n",
              "      <td>Other</td>\n",
              "      <td>Other</td>\n",
              "      <td>0</td>\n",
              "    </tr>\n",
              "    <tr>\n",
              "      <th>4</th>\n",
              "      <td>12</td>\n",
              "      <td>0</td>\n",
              "      <td>0</td>\n",
              "      <td>17</td>\n",
              "      <td>0</td>\n",
              "      <td>7.50</td>\n",
              "      <td>35</td>\n",
              "      <td>W</td>\n",
              "      <td>Other</td>\n",
              "      <td>Other</td>\n",
              "      <td>1</td>\n",
              "    </tr>\n",
              "  </tbody>\n",
              "</table>\n",
              "</div>"
            ],
            "text/plain": [
              "   Yrs_Ed  Sthrn_Rgn  Sex  Yrs_Exprnc  Union  ...  Age  Race  Occup   Sect Marr\n",
              "0       8          0    1          21      0  ...   35     H  Other   Manf    1\n",
              "1       9          0    1          42      0  ...   57     W  Other   Manf    1\n",
              "2      12          0    0           1      0  ...   19     W  Other   Manf    0\n",
              "3      12          0    0           4      0  ...   22     W  Other  Other    0\n",
              "4      12          0    0          17      0  ...   35     W  Other  Other    1\n",
              "\n",
              "[5 rows x 11 columns]"
            ]
          },
          "metadata": {},
          "execution_count": 4
        }
      ]
    },
    {
      "cell_type": "code",
      "metadata": {
        "id": "wD2WIFIEdXkH",
        "colab": {
          "base_uri": "https://localhost:8080/",
          "height": 297
        },
        "outputId": "944354d0-3c59-42b4-afb8-8a1b9a1b91aa"
      },
      "source": [
        "wage_data.describe()"
      ],
      "execution_count": 33,
      "outputs": [
        {
          "output_type": "execute_result",
          "data": {
            "text/html": [
              "<div>\n",
              "<style scoped>\n",
              "    .dataframe tbody tr th:only-of-type {\n",
              "        vertical-align: middle;\n",
              "    }\n",
              "\n",
              "    .dataframe tbody tr th {\n",
              "        vertical-align: top;\n",
              "    }\n",
              "\n",
              "    .dataframe thead th {\n",
              "        text-align: right;\n",
              "    }\n",
              "</style>\n",
              "<table border=\"1\" class=\"dataframe\">\n",
              "  <thead>\n",
              "    <tr style=\"text-align: right;\">\n",
              "      <th></th>\n",
              "      <th>Yrs_Ed</th>\n",
              "      <th>Sthrn_Rgn</th>\n",
              "      <th>Sex</th>\n",
              "      <th>Yrs_Exprnc</th>\n",
              "      <th>Union</th>\n",
              "      <th>Wage</th>\n",
              "      <th>Age</th>\n",
              "      <th>Marr</th>\n",
              "    </tr>\n",
              "  </thead>\n",
              "  <tbody>\n",
              "    <tr>\n",
              "      <th>count</th>\n",
              "      <td>534.000000</td>\n",
              "      <td>534.000000</td>\n",
              "      <td>534.000000</td>\n",
              "      <td>534.000000</td>\n",
              "      <td>534.000000</td>\n",
              "      <td>534.000000</td>\n",
              "      <td>534.000000</td>\n",
              "      <td>534.000000</td>\n",
              "    </tr>\n",
              "    <tr>\n",
              "      <th>mean</th>\n",
              "      <td>13.018727</td>\n",
              "      <td>0.292135</td>\n",
              "      <td>0.458801</td>\n",
              "      <td>17.822097</td>\n",
              "      <td>0.179775</td>\n",
              "      <td>9.024064</td>\n",
              "      <td>36.833333</td>\n",
              "      <td>0.655431</td>\n",
              "    </tr>\n",
              "    <tr>\n",
              "      <th>std</th>\n",
              "      <td>2.615373</td>\n",
              "      <td>0.455170</td>\n",
              "      <td>0.498767</td>\n",
              "      <td>12.379710</td>\n",
              "      <td>0.384360</td>\n",
              "      <td>5.139097</td>\n",
              "      <td>11.726573</td>\n",
              "      <td>0.475673</td>\n",
              "    </tr>\n",
              "    <tr>\n",
              "      <th>min</th>\n",
              "      <td>2.000000</td>\n",
              "      <td>0.000000</td>\n",
              "      <td>0.000000</td>\n",
              "      <td>0.000000</td>\n",
              "      <td>0.000000</td>\n",
              "      <td>1.000000</td>\n",
              "      <td>18.000000</td>\n",
              "      <td>0.000000</td>\n",
              "    </tr>\n",
              "    <tr>\n",
              "      <th>25%</th>\n",
              "      <td>12.000000</td>\n",
              "      <td>0.000000</td>\n",
              "      <td>0.000000</td>\n",
              "      <td>8.000000</td>\n",
              "      <td>0.000000</td>\n",
              "      <td>5.250000</td>\n",
              "      <td>28.000000</td>\n",
              "      <td>0.000000</td>\n",
              "    </tr>\n",
              "    <tr>\n",
              "      <th>50%</th>\n",
              "      <td>12.000000</td>\n",
              "      <td>0.000000</td>\n",
              "      <td>0.000000</td>\n",
              "      <td>15.000000</td>\n",
              "      <td>0.000000</td>\n",
              "      <td>7.780000</td>\n",
              "      <td>35.000000</td>\n",
              "      <td>1.000000</td>\n",
              "    </tr>\n",
              "    <tr>\n",
              "      <th>75%</th>\n",
              "      <td>15.000000</td>\n",
              "      <td>1.000000</td>\n",
              "      <td>1.000000</td>\n",
              "      <td>26.000000</td>\n",
              "      <td>0.000000</td>\n",
              "      <td>11.250000</td>\n",
              "      <td>44.000000</td>\n",
              "      <td>1.000000</td>\n",
              "    </tr>\n",
              "    <tr>\n",
              "      <th>max</th>\n",
              "      <td>18.000000</td>\n",
              "      <td>1.000000</td>\n",
              "      <td>1.000000</td>\n",
              "      <td>55.000000</td>\n",
              "      <td>1.000000</td>\n",
              "      <td>44.500000</td>\n",
              "      <td>64.000000</td>\n",
              "      <td>1.000000</td>\n",
              "    </tr>\n",
              "  </tbody>\n",
              "</table>\n",
              "</div>"
            ],
            "text/plain": [
              "           Yrs_Ed   Sthrn_Rgn         Sex  ...        Wage         Age        Marr\n",
              "count  534.000000  534.000000  534.000000  ...  534.000000  534.000000  534.000000\n",
              "mean    13.018727    0.292135    0.458801  ...    9.024064   36.833333    0.655431\n",
              "std      2.615373    0.455170    0.498767  ...    5.139097   11.726573    0.475673\n",
              "min      2.000000    0.000000    0.000000  ...    1.000000   18.000000    0.000000\n",
              "25%     12.000000    0.000000    0.000000  ...    5.250000   28.000000    0.000000\n",
              "50%     12.000000    0.000000    0.000000  ...    7.780000   35.000000    1.000000\n",
              "75%     15.000000    1.000000    1.000000  ...   11.250000   44.000000    1.000000\n",
              "max     18.000000    1.000000    1.000000  ...   44.500000   64.000000    1.000000\n",
              "\n",
              "[8 rows x 8 columns]"
            ]
          },
          "metadata": {},
          "execution_count": 33
        }
      ]
    },
    {
      "cell_type": "code",
      "metadata": {
        "colab": {
          "base_uri": "https://localhost:8080/"
        },
        "id": "fnKpUSoMjjdO",
        "outputId": "a7e920cb-b3c7-43a7-d7fd-7dfe2109a102"
      },
      "source": [
        "wage_data['Race'].value_counts()"
      ],
      "execution_count": 35,
      "outputs": [
        {
          "output_type": "execute_result",
          "data": {
            "text/plain": [
              "W    440\n",
              "O     67\n",
              "H     27\n",
              "Name: Race, dtype: int64"
            ]
          },
          "metadata": {},
          "execution_count": 35
        }
      ]
    },
    {
      "cell_type": "code",
      "metadata": {
        "colab": {
          "base_uri": "https://localhost:8080/",
          "height": 419
        },
        "id": "-LKuEUzVkC11",
        "outputId": "6102e865-d404-4df8-814a-398871c087ad"
      },
      "source": [
        "wage_data['Race_H'] = np.where(wage_data['Race'] == \"H\", 1, 0)\n",
        "wage_data['Race_O'] = np.where(wage_data['Race'] == \"O\", 1, 0)\n",
        "wage_data = wage_data.drop('Race', axis=1)\n",
        "wage_data"
      ],
      "execution_count": 37,
      "outputs": [
        {
          "output_type": "execute_result",
          "data": {
            "text/html": [
              "<div>\n",
              "<style scoped>\n",
              "    .dataframe tbody tr th:only-of-type {\n",
              "        vertical-align: middle;\n",
              "    }\n",
              "\n",
              "    .dataframe tbody tr th {\n",
              "        vertical-align: top;\n",
              "    }\n",
              "\n",
              "    .dataframe thead th {\n",
              "        text-align: right;\n",
              "    }\n",
              "</style>\n",
              "<table border=\"1\" class=\"dataframe\">\n",
              "  <thead>\n",
              "    <tr style=\"text-align: right;\">\n",
              "      <th></th>\n",
              "      <th>Yrs_Ed</th>\n",
              "      <th>Sthrn_Rgn</th>\n",
              "      <th>Sex</th>\n",
              "      <th>Yrs_Exprnc</th>\n",
              "      <th>Union</th>\n",
              "      <th>Wage</th>\n",
              "      <th>Age</th>\n",
              "      <th>Occup</th>\n",
              "      <th>Sect</th>\n",
              "      <th>Marr</th>\n",
              "      <th>Race_H</th>\n",
              "      <th>Race_O</th>\n",
              "    </tr>\n",
              "  </thead>\n",
              "  <tbody>\n",
              "    <tr>\n",
              "      <th>0</th>\n",
              "      <td>8</td>\n",
              "      <td>0</td>\n",
              "      <td>1</td>\n",
              "      <td>21</td>\n",
              "      <td>0</td>\n",
              "      <td>5.10</td>\n",
              "      <td>35</td>\n",
              "      <td>Other</td>\n",
              "      <td>Manf</td>\n",
              "      <td>1</td>\n",
              "      <td>1</td>\n",
              "      <td>0</td>\n",
              "    </tr>\n",
              "    <tr>\n",
              "      <th>1</th>\n",
              "      <td>9</td>\n",
              "      <td>0</td>\n",
              "      <td>1</td>\n",
              "      <td>42</td>\n",
              "      <td>0</td>\n",
              "      <td>4.95</td>\n",
              "      <td>57</td>\n",
              "      <td>Other</td>\n",
              "      <td>Manf</td>\n",
              "      <td>1</td>\n",
              "      <td>0</td>\n",
              "      <td>0</td>\n",
              "    </tr>\n",
              "    <tr>\n",
              "      <th>2</th>\n",
              "      <td>12</td>\n",
              "      <td>0</td>\n",
              "      <td>0</td>\n",
              "      <td>1</td>\n",
              "      <td>0</td>\n",
              "      <td>6.67</td>\n",
              "      <td>19</td>\n",
              "      <td>Other</td>\n",
              "      <td>Manf</td>\n",
              "      <td>0</td>\n",
              "      <td>0</td>\n",
              "      <td>0</td>\n",
              "    </tr>\n",
              "    <tr>\n",
              "      <th>3</th>\n",
              "      <td>12</td>\n",
              "      <td>0</td>\n",
              "      <td>0</td>\n",
              "      <td>4</td>\n",
              "      <td>0</td>\n",
              "      <td>4.00</td>\n",
              "      <td>22</td>\n",
              "      <td>Other</td>\n",
              "      <td>Other</td>\n",
              "      <td>0</td>\n",
              "      <td>0</td>\n",
              "      <td>0</td>\n",
              "    </tr>\n",
              "    <tr>\n",
              "      <th>4</th>\n",
              "      <td>12</td>\n",
              "      <td>0</td>\n",
              "      <td>0</td>\n",
              "      <td>17</td>\n",
              "      <td>0</td>\n",
              "      <td>7.50</td>\n",
              "      <td>35</td>\n",
              "      <td>Other</td>\n",
              "      <td>Other</td>\n",
              "      <td>1</td>\n",
              "      <td>0</td>\n",
              "      <td>0</td>\n",
              "    </tr>\n",
              "    <tr>\n",
              "      <th>...</th>\n",
              "      <td>...</td>\n",
              "      <td>...</td>\n",
              "      <td>...</td>\n",
              "      <td>...</td>\n",
              "      <td>...</td>\n",
              "      <td>...</td>\n",
              "      <td>...</td>\n",
              "      <td>...</td>\n",
              "      <td>...</td>\n",
              "      <td>...</td>\n",
              "      <td>...</td>\n",
              "      <td>...</td>\n",
              "    </tr>\n",
              "    <tr>\n",
              "      <th>529</th>\n",
              "      <td>18</td>\n",
              "      <td>0</td>\n",
              "      <td>0</td>\n",
              "      <td>5</td>\n",
              "      <td>0</td>\n",
              "      <td>11.36</td>\n",
              "      <td>29</td>\n",
              "      <td>Prof</td>\n",
              "      <td>Other</td>\n",
              "      <td>0</td>\n",
              "      <td>0</td>\n",
              "      <td>0</td>\n",
              "    </tr>\n",
              "    <tr>\n",
              "      <th>530</th>\n",
              "      <td>12</td>\n",
              "      <td>0</td>\n",
              "      <td>1</td>\n",
              "      <td>33</td>\n",
              "      <td>0</td>\n",
              "      <td>6.10</td>\n",
              "      <td>51</td>\n",
              "      <td>Prof</td>\n",
              "      <td>Other</td>\n",
              "      <td>1</td>\n",
              "      <td>0</td>\n",
              "      <td>1</td>\n",
              "    </tr>\n",
              "    <tr>\n",
              "      <th>531</th>\n",
              "      <td>17</td>\n",
              "      <td>0</td>\n",
              "      <td>1</td>\n",
              "      <td>25</td>\n",
              "      <td>1</td>\n",
              "      <td>23.25</td>\n",
              "      <td>48</td>\n",
              "      <td>Prof</td>\n",
              "      <td>Other</td>\n",
              "      <td>1</td>\n",
              "      <td>0</td>\n",
              "      <td>1</td>\n",
              "    </tr>\n",
              "    <tr>\n",
              "      <th>532</th>\n",
              "      <td>12</td>\n",
              "      <td>1</td>\n",
              "      <td>0</td>\n",
              "      <td>13</td>\n",
              "      <td>1</td>\n",
              "      <td>19.88</td>\n",
              "      <td>31</td>\n",
              "      <td>Prof</td>\n",
              "      <td>Other</td>\n",
              "      <td>1</td>\n",
              "      <td>0</td>\n",
              "      <td>0</td>\n",
              "    </tr>\n",
              "    <tr>\n",
              "      <th>533</th>\n",
              "      <td>16</td>\n",
              "      <td>0</td>\n",
              "      <td>0</td>\n",
              "      <td>33</td>\n",
              "      <td>0</td>\n",
              "      <td>15.38</td>\n",
              "      <td>55</td>\n",
              "      <td>Prof</td>\n",
              "      <td>Manf</td>\n",
              "      <td>1</td>\n",
              "      <td>0</td>\n",
              "      <td>0</td>\n",
              "    </tr>\n",
              "  </tbody>\n",
              "</table>\n",
              "<p>534 rows × 12 columns</p>\n",
              "</div>"
            ],
            "text/plain": [
              "     Yrs_Ed  Sthrn_Rgn  Sex  Yrs_Exprnc  ...   Sect  Marr  Race_H Race_O\n",
              "0         8          0    1          21  ...   Manf     1       1      0\n",
              "1         9          0    1          42  ...   Manf     1       0      0\n",
              "2        12          0    0           1  ...   Manf     0       0      0\n",
              "3        12          0    0           4  ...  Other     0       0      0\n",
              "4        12          0    0          17  ...  Other     1       0      0\n",
              "..      ...        ...  ...         ...  ...    ...   ...     ...    ...\n",
              "529      18          0    0           5  ...  Other     0       0      0\n",
              "530      12          0    1          33  ...  Other     1       0      1\n",
              "531      17          0    1          25  ...  Other     1       0      1\n",
              "532      12          1    0          13  ...  Other     1       0      0\n",
              "533      16          0    0          33  ...   Manf     1       0      0\n",
              "\n",
              "[534 rows x 12 columns]"
            ]
          },
          "metadata": {},
          "execution_count": 37
        }
      ]
    },
    {
      "cell_type": "code",
      "metadata": {
        "id": "zl5JCUhmgV8N"
      },
      "source": [
        "X1 = wage_data[['Sex','Age','Race_H','Race_O']]\n",
        "y = wage_data['Wage']"
      ],
      "execution_count": 38,
      "outputs": []
    },
    {
      "cell_type": "code",
      "metadata": {
        "colab": {
          "base_uri": "https://localhost:8080/"
        },
        "id": "0xASAMZGhYCD",
        "outputId": "4300496e-4161-42b2-a748-779469572d23"
      },
      "source": [
        "model1 = LinearRegression(fit_intercept=True)\n",
        "model1.fit(X1, y)\n",
        "print(model1.intercept_)\n",
        "print(model1.coef_)"
      ],
      "execution_count": 41,
      "outputs": [
        {
          "output_type": "stream",
          "name": "stdout",
          "text": [
            "7.223362465207445\n",
            "[-2.29365014  0.08453479 -1.75369486 -1.3708409 ]\n"
          ]
        }
      ]
    },
    {
      "cell_type": "code",
      "metadata": {
        "colab": {
          "base_uri": "https://localhost:8080/",
          "height": 164
        },
        "id": "gL6rdGrGlafl",
        "outputId": "407d5539-e16f-4ca6-9232-b3ba44add2af"
      },
      "source": [
        "X2 = wage_data[['Sex','Age','Race_H','Race_O','Yrs_Ed','Sthren_Rgn']]"
      ],
      "execution_count": 1,
      "outputs": [
        {
          "output_type": "error",
          "ename": "NameError",
          "evalue": "ignored",
          "traceback": [
            "\u001b[0;31m---------------------------------------------------------------------------\u001b[0m",
            "\u001b[0;31mNameError\u001b[0m                                 Traceback (most recent call last)",
            "\u001b[0;32m<ipython-input-1-f6517b4f862b>\u001b[0m in \u001b[0;36m<module>\u001b[0;34m()\u001b[0m\n\u001b[0;32m----> 1\u001b[0;31m \u001b[0mX2\u001b[0m \u001b[0;34m=\u001b[0m \u001b[0mwage_data\u001b[0m\u001b[0;34m[\u001b[0m\u001b[0;34m[\u001b[0m\u001b[0;34m'Sex'\u001b[0m\u001b[0;34m,\u001b[0m\u001b[0;34m'Age'\u001b[0m\u001b[0;34m,\u001b[0m\u001b[0;34m'Race_H'\u001b[0m\u001b[0;34m,\u001b[0m\u001b[0;34m'Race_O'\u001b[0m\u001b[0;34m,\u001b[0m\u001b[0;34m'Yrs_Ed'\u001b[0m\u001b[0;34m,\u001b[0m\u001b[0;34m'Sthren_Rgn'\u001b[0m\u001b[0;34m]\u001b[0m\u001b[0;34m]\u001b[0m\u001b[0;34m\u001b[0m\u001b[0;34m\u001b[0m\u001b[0m\n\u001b[0m",
            "\u001b[0;31mNameError\u001b[0m: name 'wage_data' is not defined"
          ]
        }
      ]
    },
    {
      "cell_type": "code",
      "metadata": {
        "id": "RlprC2nEdXkI",
        "outputId": "8ea3ad54-fd0d-4a3d-add1-42bfee7c2d04"
      },
      "source": [
        "second_reg = ols(formula=\"Wage ~ Sex + Age + Race + Yrs_Ed + Sthrn_Rgn\", data=wage_data).fit()\n",
        "print(second_reg.summary())"
      ],
      "execution_count": null,
      "outputs": [
        {
          "name": "stdout",
          "output_type": "stream",
          "text": [
            "                            OLS Regression Results                            \n",
            "==============================================================================\n",
            "Dep. Variable:                   Wage   R-squared:                       0.262\n",
            "Model:                            OLS   Adj. R-squared:                  0.254\n",
            "Method:                 Least Squares   F-statistic:                     31.20\n",
            "Date:                Thu, 08 Oct 2020   Prob (F-statistic):           4.07e-32\n",
            "Time:                        21:12:24   Log-Likelihood:                -1550.2\n",
            "No. Observations:                 534   AIC:                             3114.\n",
            "Df Residuals:                     527   BIC:                             3144.\n",
            "Df Model:                           6                                         \n",
            "Covariance Type:            nonrobust                                         \n",
            "==============================================================================\n",
            "                 coef    std err          t      P>|t|      [0.025      0.975]\n",
            "------------------------------------------------------------------------------\n",
            "Intercept     -4.2365      1.450     -2.923      0.004      -7.084      -1.389\n",
            "Race[T.O]     -0.6297      1.018     -0.619      0.536      -2.629       1.370\n",
            "Race[T.W]      0.2257      0.893      0.253      0.801      -1.528       1.979\n",
            "Sex           -2.3643      0.387     -6.108      0.000      -3.125      -1.604\n",
            "Age            0.1112      0.017      6.658      0.000       0.078       0.144\n",
            "Yrs_Ed         0.7976      0.076     10.499      0.000       0.648       0.947\n",
            "Sthrn_Rgn     -0.8284      0.430     -1.926      0.055      -1.673       0.016\n",
            "==============================================================================\n",
            "Omnibus:                      250.980   Durbin-Watson:                   1.897\n",
            "Prob(Omnibus):                  0.000   Jarque-Bera (JB):             2513.269\n",
            "Skew:                           1.802   Prob(JB):                         0.00\n",
            "Kurtosis:                      12.999   Cond. No.                         353.\n",
            "==============================================================================\n",
            "\n",
            "Warnings:\n",
            "[1] Standard Errors assume that the covariance matrix of the errors is correctly specified.\n"
          ]
        }
      ]
    },
    {
      "cell_type": "code",
      "metadata": {
        "id": "Dfq31_1WdXkI",
        "outputId": "1c1b7c0d-8778-4cf7-a410-d595ee784f44"
      },
      "source": [
        "second_reg.conf_int(alpha=0.05, cols=None)"
      ],
      "execution_count": null,
      "outputs": [
        {
          "data": {
            "text/html": [
              "<div>\n",
              "<style scoped>\n",
              "    .dataframe tbody tr th:only-of-type {\n",
              "        vertical-align: middle;\n",
              "    }\n",
              "\n",
              "    .dataframe tbody tr th {\n",
              "        vertical-align: top;\n",
              "    }\n",
              "\n",
              "    .dataframe thead th {\n",
              "        text-align: right;\n",
              "    }\n",
              "</style>\n",
              "<table border=\"1\" class=\"dataframe\">\n",
              "  <thead>\n",
              "    <tr style=\"text-align: right;\">\n",
              "      <th></th>\n",
              "      <th>0</th>\n",
              "      <th>1</th>\n",
              "    </tr>\n",
              "  </thead>\n",
              "  <tbody>\n",
              "    <tr>\n",
              "      <th>Intercept</th>\n",
              "      <td>-7.084025</td>\n",
              "      <td>-1.388967</td>\n",
              "    </tr>\n",
              "    <tr>\n",
              "      <th>Race[T.O]</th>\n",
              "      <td>-2.629080</td>\n",
              "      <td>1.369725</td>\n",
              "    </tr>\n",
              "    <tr>\n",
              "      <th>Race[T.W]</th>\n",
              "      <td>-1.527909</td>\n",
              "      <td>1.979231</td>\n",
              "    </tr>\n",
              "    <tr>\n",
              "      <th>Sex</th>\n",
              "      <td>-3.124739</td>\n",
              "      <td>-1.603921</td>\n",
              "    </tr>\n",
              "    <tr>\n",
              "      <th>Age</th>\n",
              "      <td>0.078417</td>\n",
              "      <td>0.144054</td>\n",
              "    </tr>\n",
              "    <tr>\n",
              "      <th>Yrs_Ed</th>\n",
              "      <td>0.648331</td>\n",
              "      <td>0.946791</td>\n",
              "    </tr>\n",
              "    <tr>\n",
              "      <th>Sthrn_Rgn</th>\n",
              "      <td>-1.673239</td>\n",
              "      <td>0.016383</td>\n",
              "    </tr>\n",
              "  </tbody>\n",
              "</table>\n",
              "</div>"
            ],
            "text/plain": [
              "                  0         1\n",
              "Intercept -7.084025 -1.388967\n",
              "Race[T.O] -2.629080  1.369725\n",
              "Race[T.W] -1.527909  1.979231\n",
              "Sex       -3.124739 -1.603921\n",
              "Age        0.078417  0.144054\n",
              "Yrs_Ed     0.648331  0.946791\n",
              "Sthrn_Rgn -1.673239  0.016383"
            ]
          },
          "execution_count": 9,
          "metadata": {},
          "output_type": "execute_result"
        }
      ]
    },
    {
      "cell_type": "code",
      "metadata": {
        "id": "AVWT7UjPdXkJ",
        "outputId": "e13b6fc2-e64b-4e1f-ab85-5f9a9a1c77fc"
      },
      "source": [
        "Occup_d = pd.get_dummies(wage_data['Occup'], prefix='Occup', drop_first=True)\n",
        "Race_d = pd.get_dummies(wage_data['Race'], prefix='Race', drop_first=True)\n",
        "Sect_d = pd.get_dummies(wage_data['Sect'], prefix='Sect', drop_first=True)\n",
        "Occup_d.head(3)"
      ],
      "execution_count": null,
      "outputs": [
        {
          "data": {
            "text/html": [
              "<div>\n",
              "<style scoped>\n",
              "    .dataframe tbody tr th:only-of-type {\n",
              "        vertical-align: middle;\n",
              "    }\n",
              "\n",
              "    .dataframe tbody tr th {\n",
              "        vertical-align: top;\n",
              "    }\n",
              "\n",
              "    .dataframe thead th {\n",
              "        text-align: right;\n",
              "    }\n",
              "</style>\n",
              "<table border=\"1\" class=\"dataframe\">\n",
              "  <thead>\n",
              "    <tr style=\"text-align: right;\">\n",
              "      <th></th>\n",
              "      <th>Occup_Mngmnt</th>\n",
              "      <th>Occup_Other</th>\n",
              "      <th>Occup_Prof</th>\n",
              "      <th>Occup_Sales</th>\n",
              "      <th>Occup_Service</th>\n",
              "    </tr>\n",
              "  </thead>\n",
              "  <tbody>\n",
              "    <tr>\n",
              "      <th>0</th>\n",
              "      <td>0</td>\n",
              "      <td>1</td>\n",
              "      <td>0</td>\n",
              "      <td>0</td>\n",
              "      <td>0</td>\n",
              "    </tr>\n",
              "    <tr>\n",
              "      <th>1</th>\n",
              "      <td>0</td>\n",
              "      <td>1</td>\n",
              "      <td>0</td>\n",
              "      <td>0</td>\n",
              "      <td>0</td>\n",
              "    </tr>\n",
              "    <tr>\n",
              "      <th>2</th>\n",
              "      <td>0</td>\n",
              "      <td>1</td>\n",
              "      <td>0</td>\n",
              "      <td>0</td>\n",
              "      <td>0</td>\n",
              "    </tr>\n",
              "  </tbody>\n",
              "</table>\n",
              "</div>"
            ],
            "text/plain": [
              "   Occup_Mngmnt  Occup_Other  Occup_Prof  Occup_Sales  Occup_Service\n",
              "0             0            1           0            0              0\n",
              "1             0            1           0            0              0\n",
              "2             0            1           0            0              0"
            ]
          },
          "execution_count": 10,
          "metadata": {},
          "output_type": "execute_result"
        }
      ]
    },
    {
      "cell_type": "code",
      "metadata": {
        "id": "A50Q9aYidXkJ"
      },
      "source": [
        "X = wage_data.drop(columns=['Wage','Occup','Race','Sect'])\n",
        "X = pd.concat([X,Occup_d,Race_d,Sect_d], axis=1)\n",
        "X = sm.add_constant(X) # Add a constant term as the default model doesn't include one\n",
        "y = wage_data['Wage']"
      ],
      "execution_count": null,
      "outputs": []
    },
    {
      "cell_type": "code",
      "metadata": {
        "id": "jt9PKxUydXkJ",
        "outputId": "863b2f4e-5ec0-4398-86af-b1d6eac654d0"
      },
      "source": [
        "third_reg = sm.OLS(y, X).fit()\n",
        "third_reg.summary()"
      ],
      "execution_count": null,
      "outputs": [
        {
          "data": {
            "text/html": [
              "<table class=\"simpletable\">\n",
              "<caption>OLS Regression Results</caption>\n",
              "<tr>\n",
              "  <th>Dep. Variable:</th>          <td>Wage</td>       <th>  R-squared:         </th> <td>   0.326</td>\n",
              "</tr>\n",
              "<tr>\n",
              "  <th>Model:</th>                   <td>OLS</td>       <th>  Adj. R-squared:    </th> <td>   0.306</td>\n",
              "</tr>\n",
              "<tr>\n",
              "  <th>Method:</th>             <td>Least Squares</td>  <th>  F-statistic:       </th> <td>   15.66</td>\n",
              "</tr>\n",
              "<tr>\n",
              "  <th>Date:</th>             <td>Thu, 08 Oct 2020</td> <th>  Prob (F-statistic):</th> <td>3.02e-35</td>\n",
              "</tr>\n",
              "<tr>\n",
              "  <th>Time:</th>                 <td>21:12:26</td>     <th>  Log-Likelihood:    </th> <td> -1525.8</td>\n",
              "</tr>\n",
              "<tr>\n",
              "  <th>No. Observations:</th>      <td>   534</td>      <th>  AIC:               </th> <td>   3086.</td>\n",
              "</tr>\n",
              "<tr>\n",
              "  <th>Df Residuals:</th>          <td>   517</td>      <th>  BIC:               </th> <td>   3158.</td>\n",
              "</tr>\n",
              "<tr>\n",
              "  <th>Df Model:</th>              <td>    16</td>      <th>                     </th>     <td> </td>   \n",
              "</tr>\n",
              "<tr>\n",
              "  <th>Covariance Type:</th>      <td>nonrobust</td>    <th>                     </th>     <td> </td>   \n",
              "</tr>\n",
              "</table>\n",
              "<table class=\"simpletable\">\n",
              "<tr>\n",
              "        <td></td>           <th>coef</th>     <th>std err</th>      <th>t</th>      <th>P>|t|</th>  <th>[0.025</th>    <th>0.975]</th>  \n",
              "</tr>\n",
              "<tr>\n",
              "  <th>const</th>         <td>   -0.2814</td> <td>    6.741</td> <td>   -0.042</td> <td> 0.967</td> <td>  -13.525</td> <td>   12.962</td>\n",
              "</tr>\n",
              "<tr>\n",
              "  <th>Yrs_Ed</th>        <td>    0.8128</td> <td>    1.087</td> <td>    0.748</td> <td> 0.455</td> <td>   -1.322</td> <td>    2.948</td>\n",
              "</tr>\n",
              "<tr>\n",
              "  <th>Sthrn_Rgn</th>     <td>   -0.5627</td> <td>    0.420</td> <td>   -1.340</td> <td> 0.181</td> <td>   -1.388</td> <td>    0.262</td>\n",
              "</tr>\n",
              "<tr>\n",
              "  <th>Sex</th>           <td>   -1.9425</td> <td>    0.419</td> <td>   -4.631</td> <td> 0.000</td> <td>   -2.767</td> <td>   -1.119</td>\n",
              "</tr>\n",
              "<tr>\n",
              "  <th>Yrs_Exprnc</th>    <td>    0.2448</td> <td>    1.082</td> <td>    0.226</td> <td> 0.821</td> <td>   -1.880</td> <td>    2.370</td>\n",
              "</tr>\n",
              "<tr>\n",
              "  <th>Union</th>         <td>    1.6017</td> <td>    0.513</td> <td>    3.124</td> <td> 0.002</td> <td>    0.594</td> <td>    2.609</td>\n",
              "</tr>\n",
              "<tr>\n",
              "  <th>Age</th>           <td>   -0.1580</td> <td>    1.081</td> <td>   -0.146</td> <td> 0.884</td> <td>   -2.282</td> <td>    1.965</td>\n",
              "</tr>\n",
              "<tr>\n",
              "  <th>Marr</th>          <td>    0.3005</td> <td>    0.411</td> <td>    0.731</td> <td> 0.465</td> <td>   -0.507</td> <td>    1.108</td>\n",
              "</tr>\n",
              "<tr>\n",
              "  <th>Occup_Mngmnt</th>  <td>    3.2682</td> <td>    0.763</td> <td>    4.286</td> <td> 0.000</td> <td>    1.770</td> <td>    4.766</td>\n",
              "</tr>\n",
              "<tr>\n",
              "  <th>Occup_Other</th>   <td>   -0.0223</td> <td>    0.686</td> <td>   -0.033</td> <td> 0.974</td> <td>   -1.370</td> <td>    1.325</td>\n",
              "</tr>\n",
              "<tr>\n",
              "  <th>Occup_Prof</th>    <td>    1.9346</td> <td>    0.670</td> <td>    2.886</td> <td> 0.004</td> <td>    0.617</td> <td>    3.252</td>\n",
              "</tr>\n",
              "<tr>\n",
              "  <th>Occup_Sales</th>   <td>   -0.7956</td> <td>    0.838</td> <td>   -0.949</td> <td> 0.343</td> <td>   -2.442</td> <td>    0.851</td>\n",
              "</tr>\n",
              "<tr>\n",
              "  <th>Occup_Service</th> <td>   -0.7072</td> <td>    0.663</td> <td>   -1.066</td> <td> 0.287</td> <td>   -2.010</td> <td>    0.596</td>\n",
              "</tr>\n",
              "<tr>\n",
              "  <th>Race_O</th>        <td>   -0.2314</td> <td>    0.992</td> <td>   -0.233</td> <td> 0.816</td> <td>   -2.179</td> <td>    1.717</td>\n",
              "</tr>\n",
              "<tr>\n",
              "  <th>Race_W</th>        <td>    0.6065</td> <td>    0.870</td> <td>    0.697</td> <td> 0.486</td> <td>   -1.102</td> <td>    2.315</td>\n",
              "</tr>\n",
              "<tr>\n",
              "  <th>Sect_Manf</th>     <td>    0.5635</td> <td>    0.992</td> <td>    0.568</td> <td> 0.570</td> <td>   -1.384</td> <td>    2.511</td>\n",
              "</tr>\n",
              "<tr>\n",
              "  <th>Sect_Other</th>    <td>   -0.4774</td> <td>    0.966</td> <td>   -0.494</td> <td> 0.621</td> <td>   -2.375</td> <td>    1.421</td>\n",
              "</tr>\n",
              "</table>\n",
              "<table class=\"simpletable\">\n",
              "<tr>\n",
              "  <th>Omnibus:</th>       <td>244.027</td> <th>  Durbin-Watson:     </th> <td>   2.010</td>\n",
              "</tr>\n",
              "<tr>\n",
              "  <th>Prob(Omnibus):</th> <td> 0.000</td>  <th>  Jarque-Bera (JB):  </th> <td>2320.734</td>\n",
              "</tr>\n",
              "<tr>\n",
              "  <th>Skew:</th>          <td> 1.756</td>  <th>  Prob(JB):          </th> <td>    0.00</td>\n",
              "</tr>\n",
              "<tr>\n",
              "  <th>Kurtosis:</th>      <td>12.590</td>  <th>  Cond. No.          </th> <td>1.72e+03</td>\n",
              "</tr>\n",
              "</table><br/><br/>Warnings:<br/>[1] Standard Errors assume that the covariance matrix of the errors is correctly specified.<br/>[2] The condition number is large, 1.72e+03. This might indicate that there are<br/>strong multicollinearity or other numerical problems."
            ],
            "text/plain": [
              "<class 'statsmodels.iolib.summary.Summary'>\n",
              "\"\"\"\n",
              "                            OLS Regression Results                            \n",
              "==============================================================================\n",
              "Dep. Variable:                   Wage   R-squared:                       0.326\n",
              "Model:                            OLS   Adj. R-squared:                  0.306\n",
              "Method:                 Least Squares   F-statistic:                     15.66\n",
              "Date:                Thu, 08 Oct 2020   Prob (F-statistic):           3.02e-35\n",
              "Time:                        21:12:26   Log-Likelihood:                -1525.8\n",
              "No. Observations:                 534   AIC:                             3086.\n",
              "Df Residuals:                     517   BIC:                             3158.\n",
              "Df Model:                          16                                         \n",
              "Covariance Type:            nonrobust                                         \n",
              "=================================================================================\n",
              "                    coef    std err          t      P>|t|      [0.025      0.975]\n",
              "---------------------------------------------------------------------------------\n",
              "const            -0.2814      6.741     -0.042      0.967     -13.525      12.962\n",
              "Yrs_Ed            0.8128      1.087      0.748      0.455      -1.322       2.948\n",
              "Sthrn_Rgn        -0.5627      0.420     -1.340      0.181      -1.388       0.262\n",
              "Sex              -1.9425      0.419     -4.631      0.000      -2.767      -1.119\n",
              "Yrs_Exprnc        0.2448      1.082      0.226      0.821      -1.880       2.370\n",
              "Union             1.6017      0.513      3.124      0.002       0.594       2.609\n",
              "Age              -0.1580      1.081     -0.146      0.884      -2.282       1.965\n",
              "Marr              0.3005      0.411      0.731      0.465      -0.507       1.108\n",
              "Occup_Mngmnt      3.2682      0.763      4.286      0.000       1.770       4.766\n",
              "Occup_Other      -0.0223      0.686     -0.033      0.974      -1.370       1.325\n",
              "Occup_Prof        1.9346      0.670      2.886      0.004       0.617       3.252\n",
              "Occup_Sales      -0.7956      0.838     -0.949      0.343      -2.442       0.851\n",
              "Occup_Service    -0.7072      0.663     -1.066      0.287      -2.010       0.596\n",
              "Race_O           -0.2314      0.992     -0.233      0.816      -2.179       1.717\n",
              "Race_W            0.6065      0.870      0.697      0.486      -1.102       2.315\n",
              "Sect_Manf         0.5635      0.992      0.568      0.570      -1.384       2.511\n",
              "Sect_Other       -0.4774      0.966     -0.494      0.621      -2.375       1.421\n",
              "==============================================================================\n",
              "Omnibus:                      244.027   Durbin-Watson:                   2.010\n",
              "Prob(Omnibus):                  0.000   Jarque-Bera (JB):             2320.734\n",
              "Skew:                           1.756   Prob(JB):                         0.00\n",
              "Kurtosis:                      12.590   Cond. No.                     1.72e+03\n",
              "==============================================================================\n",
              "\n",
              "Warnings:\n",
              "[1] Standard Errors assume that the covariance matrix of the errors is correctly specified.\n",
              "[2] The condition number is large, 1.72e+03. This might indicate that there are\n",
              "strong multicollinearity or other numerical problems.\n",
              "\"\"\""
            ]
          },
          "execution_count": 12,
          "metadata": {},
          "output_type": "execute_result"
        }
      ]
    },
    {
      "cell_type": "code",
      "metadata": {
        "id": "fiqzgjEAdXkK",
        "outputId": "7e39678c-52e4-4fd5-ba64-be2c870044be"
      },
      "source": [
        "ypred = third_reg.predict(X)\n",
        "eps = y - ypred\n",
        "eps.plot(kind='hist')"
      ],
      "execution_count": null,
      "outputs": [
        {
          "data": {
            "text/plain": [
              "<matplotlib.axes._subplots.AxesSubplot at 0x118967850>"
            ]
          },
          "execution_count": 13,
          "metadata": {},
          "output_type": "execute_result"
        },
        {
          "data": {
            "image/png": "[encoded data removed]",
            "text/plain": [
              "<Figure size 432x288 with 1 Axes>"
            ]
          },
          "metadata": {
            "needs_background": "light"
          },
          "output_type": "display_data"
        }
      ]
    },
    {
      "cell_type": "code",
      "metadata": {
        "id": "2-lht_KRdXkK",
        "outputId": "bd71572d-ccaa-4365-d487-5b4cba6538b1"
      },
      "source": [
        "fig = sm.qqplot(eps, line=\"s\")\n",
        "plt.show()"
      ],
      "execution_count": null,
      "outputs": [
        {
          "data": {
            "image/png": "[encoded data removed]",
            "text/plain": [
              "<Figure size 432x288 with 1 Axes>"
            ]
          },
          "metadata": {
            "needs_background": "light"
          },
          "output_type": "display_data"
        }
      ]
    },
    {
      "cell_type": "code",
      "metadata": {
        "id": "tUlsjTjUdXkK",
        "outputId": "10ceffac-5696-4a87-897e-2bb549531f12"
      },
      "source": [
        "fourth_reg = sm.OLS(np.log(y), X).fit()\n",
        "fourth_reg.summary()"
      ],
      "execution_count": null,
      "outputs": [
        {
          "data": {
            "text/html": [
              "<table class=\"simpletable\">\n",
              "<caption>OLS Regression Results</caption>\n",
              "<tr>\n",
              "  <th>Dep. Variable:</th>          <td>Wage</td>       <th>  R-squared:         </th> <td>   0.362</td>\n",
              "</tr>\n",
              "<tr>\n",
              "  <th>Model:</th>                   <td>OLS</td>       <th>  Adj. R-squared:    </th> <td>   0.342</td>\n",
              "</tr>\n",
              "<tr>\n",
              "  <th>Method:</th>             <td>Least Squares</td>  <th>  F-statistic:       </th> <td>   18.31</td>\n",
              "</tr>\n",
              "<tr>\n",
              "  <th>Date:</th>             <td>Thu, 08 Oct 2020</td> <th>  Prob (F-statistic):</th> <td>5.65e-41</td>\n",
              "</tr>\n",
              "<tr>\n",
              "  <th>Time:</th>                 <td>21:12:27</td>     <th>  Log-Likelihood:    </th> <td> -296.02</td>\n",
              "</tr>\n",
              "<tr>\n",
              "  <th>No. Observations:</th>      <td>   534</td>      <th>  AIC:               </th> <td>   626.0</td>\n",
              "</tr>\n",
              "<tr>\n",
              "  <th>Df Residuals:</th>          <td>   517</td>      <th>  BIC:               </th> <td>   698.8</td>\n",
              "</tr>\n",
              "<tr>\n",
              "  <th>Df Model:</th>              <td>    16</td>      <th>                     </th>     <td> </td>   \n",
              "</tr>\n",
              "<tr>\n",
              "  <th>Covariance Type:</th>      <td>nonrobust</td>    <th>                     </th>     <td> </td>   \n",
              "</tr>\n",
              "</table>\n",
              "<table class=\"simpletable\">\n",
              "<tr>\n",
              "        <td></td>           <th>coef</th>     <th>std err</th>      <th>t</th>      <th>P>|t|</th>  <th>[0.025</th>    <th>0.975]</th>  \n",
              "</tr>\n",
              "<tr>\n",
              "  <th>const</th>         <td>    1.3940</td> <td>    0.674</td> <td>    2.069</td> <td> 0.039</td> <td>    0.070</td> <td>    2.718</td>\n",
              "</tr>\n",
              "<tr>\n",
              "  <th>Yrs_Ed</th>        <td>    0.1253</td> <td>    0.109</td> <td>    1.153</td> <td> 0.250</td> <td>   -0.088</td> <td>    0.339</td>\n",
              "</tr>\n",
              "<tr>\n",
              "  <th>Sthrn_Rgn</th>     <td>   -0.0929</td> <td>    0.042</td> <td>   -2.214</td> <td> 0.027</td> <td>   -0.175</td> <td>   -0.010</td>\n",
              "</tr>\n",
              "<tr>\n",
              "  <th>Sex</th>           <td>   -0.2181</td> <td>    0.042</td> <td>   -5.202</td> <td> 0.000</td> <td>   -0.300</td> <td>   -0.136</td>\n",
              "</tr>\n",
              "<tr>\n",
              "  <th>Yrs_Exprnc</th>    <td>    0.0680</td> <td>    0.108</td> <td>    0.629</td> <td> 0.530</td> <td>   -0.144</td> <td>    0.280</td>\n",
              "</tr>\n",
              "<tr>\n",
              "  <th>Union</th>         <td>    0.2118</td> <td>    0.051</td> <td>    4.132</td> <td> 0.000</td> <td>    0.111</td> <td>    0.312</td>\n",
              "</tr>\n",
              "<tr>\n",
              "  <th>Age</th>           <td>   -0.0586</td> <td>    0.108</td> <td>   -0.542</td> <td> 0.588</td> <td>   -0.271</td> <td>    0.154</td>\n",
              "</tr>\n",
              "<tr>\n",
              "  <th>Marr</th>          <td>    0.0634</td> <td>    0.041</td> <td>    1.541</td> <td> 0.124</td> <td>   -0.017</td> <td>    0.144</td>\n",
              "</tr>\n",
              "<tr>\n",
              "  <th>Occup_Mngmnt</th>  <td>    0.2096</td> <td>    0.076</td> <td>    2.750</td> <td> 0.006</td> <td>    0.060</td> <td>    0.359</td>\n",
              "</tr>\n",
              "<tr>\n",
              "  <th>Occup_Other</th>   <td>   -0.0559</td> <td>    0.069</td> <td>   -0.815</td> <td> 0.415</td> <td>   -0.191</td> <td>    0.079</td>\n",
              "</tr>\n",
              "<tr>\n",
              "  <th>Occup_Prof</th>    <td>    0.1569</td> <td>    0.067</td> <td>    2.340</td> <td> 0.020</td> <td>    0.025</td> <td>    0.289</td>\n",
              "</tr>\n",
              "<tr>\n",
              "  <th>Occup_Sales</th>   <td>   -0.1548</td> <td>    0.084</td> <td>   -1.847</td> <td> 0.065</td> <td>   -0.319</td> <td>    0.010</td>\n",
              "</tr>\n",
              "<tr>\n",
              "  <th>Occup_Service</th> <td>   -0.1738</td> <td>    0.066</td> <td>   -2.622</td> <td> 0.009</td> <td>   -0.304</td> <td>   -0.044</td>\n",
              "</tr>\n",
              "<tr>\n",
              "  <th>Race_O</th>        <td>    0.0335</td> <td>    0.099</td> <td>    0.338</td> <td> 0.736</td> <td>   -0.161</td> <td>    0.228</td>\n",
              "</tr>\n",
              "<tr>\n",
              "  <th>Race_W</th>        <td>    0.1132</td> <td>    0.087</td> <td>    1.302</td> <td> 0.194</td> <td>   -0.058</td> <td>    0.284</td>\n",
              "</tr>\n",
              "<tr>\n",
              "  <th>Sect_Manf</th>     <td>    0.0224</td> <td>    0.099</td> <td>    0.226</td> <td> 0.822</td> <td>   -0.172</td> <td>    0.217</td>\n",
              "</tr>\n",
              "<tr>\n",
              "  <th>Sect_Other</th>    <td>   -0.0930</td> <td>    0.097</td> <td>   -0.962</td> <td> 0.336</td> <td>   -0.283</td> <td>    0.097</td>\n",
              "</tr>\n",
              "</table>\n",
              "<table class=\"simpletable\">\n",
              "<tr>\n",
              "  <th>Omnibus:</th>       <td>29.215</td> <th>  Durbin-Watson:     </th> <td>   1.938</td>\n",
              "</tr>\n",
              "<tr>\n",
              "  <th>Prob(Omnibus):</th> <td> 0.000</td> <th>  Jarque-Bera (JB):  </th> <td>  86.026</td>\n",
              "</tr>\n",
              "<tr>\n",
              "  <th>Skew:</th>          <td>-0.144</td> <th>  Prob(JB):          </th> <td>2.09e-19</td>\n",
              "</tr>\n",
              "<tr>\n",
              "  <th>Kurtosis:</th>      <td> 4.945</td> <th>  Cond. No.          </th> <td>1.72e+03</td>\n",
              "</tr>\n",
              "</table><br/><br/>Warnings:<br/>[1] Standard Errors assume that the covariance matrix of the errors is correctly specified.<br/>[2] The condition number is large, 1.72e+03. This might indicate that there are<br/>strong multicollinearity or other numerical problems."
            ],
            "text/plain": [
              "<class 'statsmodels.iolib.summary.Summary'>\n",
              "\"\"\"\n",
              "                            OLS Regression Results                            \n",
              "==============================================================================\n",
              "Dep. Variable:                   Wage   R-squared:                       0.362\n",
              "Model:                            OLS   Adj. R-squared:                  0.342\n",
              "Method:                 Least Squares   F-statistic:                     18.31\n",
              "Date:                Thu, 08 Oct 2020   Prob (F-statistic):           5.65e-41\n",
              "Time:                        21:12:27   Log-Likelihood:                -296.02\n",
              "No. Observations:                 534   AIC:                             626.0\n",
              "Df Residuals:                     517   BIC:                             698.8\n",
              "Df Model:                          16                                         \n",
              "Covariance Type:            nonrobust                                         \n",
              "=================================================================================\n",
              "                    coef    std err          t      P>|t|      [0.025      0.975]\n",
              "---------------------------------------------------------------------------------\n",
              "const             1.3940      0.674      2.069      0.039       0.070       2.718\n",
              "Yrs_Ed            0.1253      0.109      1.153      0.250      -0.088       0.339\n",
              "Sthrn_Rgn        -0.0929      0.042     -2.214      0.027      -0.175      -0.010\n",
              "Sex              -0.2181      0.042     -5.202      0.000      -0.300      -0.136\n",
              "Yrs_Exprnc        0.0680      0.108      0.629      0.530      -0.144       0.280\n",
              "Union             0.2118      0.051      4.132      0.000       0.111       0.312\n",
              "Age              -0.0586      0.108     -0.542      0.588      -0.271       0.154\n",
              "Marr              0.0634      0.041      1.541      0.124      -0.017       0.144\n",
              "Occup_Mngmnt      0.2096      0.076      2.750      0.006       0.060       0.359\n",
              "Occup_Other      -0.0559      0.069     -0.815      0.415      -0.191       0.079\n",
              "Occup_Prof        0.1569      0.067      2.340      0.020       0.025       0.289\n",
              "Occup_Sales      -0.1548      0.084     -1.847      0.065      -0.319       0.010\n",
              "Occup_Service    -0.1738      0.066     -2.622      0.009      -0.304      -0.044\n",
              "Race_O            0.0335      0.099      0.338      0.736      -0.161       0.228\n",
              "Race_W            0.1132      0.087      1.302      0.194      -0.058       0.284\n",
              "Sect_Manf         0.0224      0.099      0.226      0.822      -0.172       0.217\n",
              "Sect_Other       -0.0930      0.097     -0.962      0.336      -0.283       0.097\n",
              "==============================================================================\n",
              "Omnibus:                       29.215   Durbin-Watson:                   1.938\n",
              "Prob(Omnibus):                  0.000   Jarque-Bera (JB):               86.026\n",
              "Skew:                          -0.144   Prob(JB):                     2.09e-19\n",
              "Kurtosis:                       4.945   Cond. No.                     1.72e+03\n",
              "==============================================================================\n",
              "\n",
              "Warnings:\n",
              "[1] Standard Errors assume that the covariance matrix of the errors is correctly specified.\n",
              "[2] The condition number is large, 1.72e+03. This might indicate that there are\n",
              "strong multicollinearity or other numerical problems.\n",
              "\"\"\""
            ]
          },
          "execution_count": 15,
          "metadata": {},
          "output_type": "execute_result"
        }
      ]
    },
    {
      "cell_type": "code",
      "metadata": {
        "id": "lays-OPzdXkK",
        "outputId": "a74b2628-3265-4c9e-aee9-87aaed70b20f"
      },
      "source": [
        "ypred_2 = fourth_reg.predict(X)\n",
        "eps_2 = np.log(y) - ypred_2\n",
        "eps_2.plot(kind='hist')"
      ],
      "execution_count": null,
      "outputs": [
        {
          "data": {
            "text/plain": [
              "<matplotlib.axes._subplots.AxesSubplot at 0x118b8a3a0>"
            ]
          },
          "execution_count": 16,
          "metadata": {},
          "output_type": "execute_result"
        },
        {
          "data": {
            "image/png": "[encoded data removed]",
            "text/plain": [
              "<Figure size 432x288 with 1 Axes>"
            ]
          },
          "metadata": {
            "needs_background": "light"
          },
          "output_type": "display_data"
        }
      ]
    },
    {
      "cell_type": "code",
      "metadata": {
        "id": "J7dHnCRXdXkL",
        "outputId": "225a7d93-ad26-407d-f947-ad93ac244a8d"
      },
      "source": [
        "fig = sm.qqplot(eps_2, line=\"s\")\n",
        "plt.show()"
      ],
      "execution_count": null,
      "outputs": [
        {
          "data": {
            "image/png": "[encoded data removed]",
            "text/plain": [
              "<Figure size 432x288 with 1 Axes>"
            ]
          },
          "metadata": {
            "needs_background": "light"
          },
          "output_type": "display_data"
        }
      ]
    }
  ]
}