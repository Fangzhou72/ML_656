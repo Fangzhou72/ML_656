{
  "nbformat": 4,
  "nbformat_minor": 0,
  "metadata": {
    "kernelspec": {
      "display_name": "Python 3",
      "language": "python",
      "name": "python3"
    },
    "language_info": {
      "codemirror_mode": {
        "name": "ipython",
        "version": 3
      },
      "file_extension": ".py",
      "mimetype": "text/x-python",
      "name": "python",
      "nbconvert_exporter": "python",
      "pygments_lexer": "ipython3",
      "version": "3.8.3"
    },
    "colab": {
      "name": "Module1_WageRegressions.ipynb",
      "provenance": [],
      "include_colab_link": true
    }
  },
  "cells": [
    {
      "cell_type": "markdown",
      "metadata": {
        "id": "view-in-github",
        "colab_type": "text"
      },
      "source": [
        "<a href=\"https://colab.research.google.com/github/danielbauer1979/ML_656/blob/main/Module1_WageRegressions.ipynb\" target=\"_parent\"><img src=\"https://colab.research.google.com/assets/colab-badge.svg\" alt=\"Open In Colab\"/></a>"
      ]
    },
    {
      "cell_type": "code",
      "metadata": {
        "id": "XahgdBpGdXkF"
      },
      "source": [
        "import numpy as np \n",
        "import pandas as pd\n",
        "from sklearn.linear_model import LinearRegression\n",
        "import matplotlib.pyplot as plt\n",
        "import scipy.stats as st"
      ],
      "execution_count": 1,
      "outputs": []
    },
    {
      "cell_type": "markdown",
      "metadata": {
        "id": "6PpZsYF-ScgG"
      },
      "source": [
        "To make the data available, you can clone my github repository into your colab notebook, via (remove the hashtag of course):"
      ]
    },
    {
      "cell_type": "code",
      "metadata": {
        "id": "ZO_5zXXETBfG",
        "outputId": "3e9c47ad-58b6-4663-b0e3-92331cca12eb",
        "colab": {
          "base_uri": "https://localhost:8080/"
        }
      },
      "source": [
        "!git clone https://github.com/danielbauer1979/ML_656.git"
      ],
      "execution_count": 2,
      "outputs": [
        {
          "output_type": "stream",
          "name": "stdout",
          "text": [
            "Cloning into 'ML_656'...\n",
            "remote: Enumerating objects: 16, done.\u001b[K\n",
            "remote: Counting objects: 100% (16/16), done.\u001b[K\n",
            "remote: Compressing objects: 100% (15/15), done.\u001b[K\n",
            "remote: Total 16 (delta 4), reused 0 (delta 0), pack-reused 0\u001b[K\n",
            "Unpacking objects: 100% (16/16), done.\n"
          ]
        }
      ]
    },
    {
      "cell_type": "markdown",
      "metadata": {
        "id": "j7cLV6zJT2se"
      },
      "source": [
        "If you now list the content..."
      ]
    },
    {
      "cell_type": "code",
      "metadata": {
        "colab": {
          "base_uri": "https://localhost:8080/"
        },
        "id": "6rg6bLqyT_HJ",
        "outputId": "3f8da761-fc82-4891-9502-eb3345128e0d"
      },
      "source": [
        "!ls"
      ],
      "execution_count": 3,
      "outputs": [
        {
          "output_type": "stream",
          "name": "stdout",
          "text": [
            "ML_656\tsample_data\n"
          ]
        }
      ]
    },
    {
      "cell_type": "markdown",
      "metadata": {
        "id": "3PofGtKyUBes"
      },
      "source": [
        "you should see `ML_656` listed. And we can pull the data from there:"
      ]
    },
    {
      "cell_type": "code",
      "metadata": {
        "id": "gwN41ynLdXkG",
        "colab": {
          "base_uri": "https://localhost:8080/",
          "height": 204
        },
        "outputId": "1a1558aa-bdca-43fe-a5a4-5f19ef2c6a52"
      },
      "source": [
        "wage_data = pd.read_csv('ML_656/Wages_1985_Current_Population_Survey.csv')\n",
        "wage_data.head() #syntax makes clear that data is an object!"
      ],
      "execution_count": 4,
      "outputs": [
        {
          "output_type": "execute_result",
          "data": {
            "text/html": [
              "<div>\n",
              "<style scoped>\n",
              "    .dataframe tbody tr th:only-of-type {\n",
              "        vertical-align: middle;\n",
              "    }\n",
              "\n",
              "    .dataframe tbody tr th {\n",
              "        vertical-align: top;\n",
              "    }\n",
              "\n",
              "    .dataframe thead th {\n",
              "        text-align: right;\n",
              "    }\n",
              "</style>\n",
              "<table border=\"1\" class=\"dataframe\">\n",
              "  <thead>\n",
              "    <tr style=\"text-align: right;\">\n",
              "      <th></th>\n",
              "      <th>Yrs_Ed</th>\n",
              "      <th>Sthrn_Rgn</th>\n",
              "      <th>Sex</th>\n",
              "      <th>Yrs_Exprnc</th>\n",
              "      <th>Union</th>\n",
              "      <th>Wage</th>\n",
              "      <th>Age</th>\n",
              "      <th>Race</th>\n",
              "      <th>Occup</th>\n",
              "      <th>Sect</th>\n",
              "      <th>Marr</th>\n",
              "    </tr>\n",
              "  </thead>\n",
              "  <tbody>\n",
              "    <tr>\n",
              "      <th>0</th>\n",
              "      <td>8</td>\n",
              "      <td>0</td>\n",
              "      <td>1</td>\n",
              "      <td>21</td>\n",
              "      <td>0</td>\n",
              "      <td>5.10</td>\n",
              "      <td>35</td>\n",
              "      <td>H</td>\n",
              "      <td>Other</td>\n",
              "      <td>Manf</td>\n",
              "      <td>1</td>\n",
              "    </tr>\n",
              "    <tr>\n",
              "      <th>1</th>\n",
              "      <td>9</td>\n",
              "      <td>0</td>\n",
              "      <td>1</td>\n",
              "      <td>42</td>\n",
              "      <td>0</td>\n",
              "      <td>4.95</td>\n",
              "      <td>57</td>\n",
              "      <td>W</td>\n",
              "      <td>Other</td>\n",
              "      <td>Manf</td>\n",
              "      <td>1</td>\n",
              "    </tr>\n",
              "    <tr>\n",
              "      <th>2</th>\n",
              "      <td>12</td>\n",
              "      <td>0</td>\n",
              "      <td>0</td>\n",
              "      <td>1</td>\n",
              "      <td>0</td>\n",
              "      <td>6.67</td>\n",
              "      <td>19</td>\n",
              "      <td>W</td>\n",
              "      <td>Other</td>\n",
              "      <td>Manf</td>\n",
              "      <td>0</td>\n",
              "    </tr>\n",
              "    <tr>\n",
              "      <th>3</th>\n",
              "      <td>12</td>\n",
              "      <td>0</td>\n",
              "      <td>0</td>\n",
              "      <td>4</td>\n",
              "      <td>0</td>\n",
              "      <td>4.00</td>\n",
              "      <td>22</td>\n",
              "      <td>W</td>\n",
              "      <td>Other</td>\n",
              "      <td>Other</td>\n",
              "      <td>0</td>\n",
              "    </tr>\n",
              "    <tr>\n",
              "      <th>4</th>\n",
              "      <td>12</td>\n",
              "      <td>0</td>\n",
              "      <td>0</td>\n",
              "      <td>17</td>\n",
              "      <td>0</td>\n",
              "      <td>7.50</td>\n",
              "      <td>35</td>\n",
              "      <td>W</td>\n",
              "      <td>Other</td>\n",
              "      <td>Other</td>\n",
              "      <td>1</td>\n",
              "    </tr>\n",
              "  </tbody>\n",
              "</table>\n",
              "</div>"
            ],
            "text/plain": [
              "   Yrs_Ed  Sthrn_Rgn  Sex  Yrs_Exprnc  Union  ...  Age  Race  Occup   Sect Marr\n",
              "0       8          0    1          21      0  ...   35     H  Other   Manf    1\n",
              "1       9          0    1          42      0  ...   57     W  Other   Manf    1\n",
              "2      12          0    0           1      0  ...   19     W  Other   Manf    0\n",
              "3      12          0    0           4      0  ...   22     W  Other  Other    0\n",
              "4      12          0    0          17      0  ...   35     W  Other  Other    1\n",
              "\n",
              "[5 rows x 11 columns]"
            ]
          },
          "metadata": {},
          "execution_count": 4
        }
      ]
    },
    {
      "cell_type": "markdown",
      "metadata": {
        "id": "nbj6VFNvTYe8"
      },
      "source": [
        "So we have the data available. Let's look at aggregate stats."
      ]
    },
    {
      "cell_type": "code",
      "metadata": {
        "id": "wD2WIFIEdXkH",
        "colab": {
          "base_uri": "https://localhost:8080/",
          "height": 297
        },
        "outputId": "684d0445-cc3d-4e3e-b62c-2ec72dcfb837"
      },
      "source": [
        "wage_data.describe()"
      ],
      "execution_count": 5,
      "outputs": [
        {
          "output_type": "execute_result",
          "data": {
            "text/html": [
              "<div>\n",
              "<style scoped>\n",
              "    .dataframe tbody tr th:only-of-type {\n",
              "        vertical-align: middle;\n",
              "    }\n",
              "\n",
              "    .dataframe tbody tr th {\n",
              "        vertical-align: top;\n",
              "    }\n",
              "\n",
              "    .dataframe thead th {\n",
              "        text-align: right;\n",
              "    }\n",
              "</style>\n",
              "<table border=\"1\" class=\"dataframe\">\n",
              "  <thead>\n",
              "    <tr style=\"text-align: right;\">\n",
              "      <th></th>\n",
              "      <th>Yrs_Ed</th>\n",
              "      <th>Sthrn_Rgn</th>\n",
              "      <th>Sex</th>\n",
              "      <th>Yrs_Exprnc</th>\n",
              "      <th>Union</th>\n",
              "      <th>Wage</th>\n",
              "      <th>Age</th>\n",
              "      <th>Marr</th>\n",
              "    </tr>\n",
              "  </thead>\n",
              "  <tbody>\n",
              "    <tr>\n",
              "      <th>count</th>\n",
              "      <td>534.000000</td>\n",
              "      <td>534.000000</td>\n",
              "      <td>534.000000</td>\n",
              "      <td>534.000000</td>\n",
              "      <td>534.000000</td>\n",
              "      <td>534.000000</td>\n",
              "      <td>534.000000</td>\n",
              "      <td>534.000000</td>\n",
              "    </tr>\n",
              "    <tr>\n",
              "      <th>mean</th>\n",
              "      <td>13.018727</td>\n",
              "      <td>0.292135</td>\n",
              "      <td>0.458801</td>\n",
              "      <td>17.822097</td>\n",
              "      <td>0.179775</td>\n",
              "      <td>9.024064</td>\n",
              "      <td>36.833333</td>\n",
              "      <td>0.655431</td>\n",
              "    </tr>\n",
              "    <tr>\n",
              "      <th>std</th>\n",
              "      <td>2.615373</td>\n",
              "      <td>0.455170</td>\n",
              "      <td>0.498767</td>\n",
              "      <td>12.379710</td>\n",
              "      <td>0.384360</td>\n",
              "      <td>5.139097</td>\n",
              "      <td>11.726573</td>\n",
              "      <td>0.475673</td>\n",
              "    </tr>\n",
              "    <tr>\n",
              "      <th>min</th>\n",
              "      <td>2.000000</td>\n",
              "      <td>0.000000</td>\n",
              "      <td>0.000000</td>\n",
              "      <td>0.000000</td>\n",
              "      <td>0.000000</td>\n",
              "      <td>1.000000</td>\n",
              "      <td>18.000000</td>\n",
              "      <td>0.000000</td>\n",
              "    </tr>\n",
              "    <tr>\n",
              "      <th>25%</th>\n",
              "      <td>12.000000</td>\n",
              "      <td>0.000000</td>\n",
              "      <td>0.000000</td>\n",
              "      <td>8.000000</td>\n",
              "      <td>0.000000</td>\n",
              "      <td>5.250000</td>\n",
              "      <td>28.000000</td>\n",
              "      <td>0.000000</td>\n",
              "    </tr>\n",
              "    <tr>\n",
              "      <th>50%</th>\n",
              "      <td>12.000000</td>\n",
              "      <td>0.000000</td>\n",
              "      <td>0.000000</td>\n",
              "      <td>15.000000</td>\n",
              "      <td>0.000000</td>\n",
              "      <td>7.780000</td>\n",
              "      <td>35.000000</td>\n",
              "      <td>1.000000</td>\n",
              "    </tr>\n",
              "    <tr>\n",
              "      <th>75%</th>\n",
              "      <td>15.000000</td>\n",
              "      <td>1.000000</td>\n",
              "      <td>1.000000</td>\n",
              "      <td>26.000000</td>\n",
              "      <td>0.000000</td>\n",
              "      <td>11.250000</td>\n",
              "      <td>44.000000</td>\n",
              "      <td>1.000000</td>\n",
              "    </tr>\n",
              "    <tr>\n",
              "      <th>max</th>\n",
              "      <td>18.000000</td>\n",
              "      <td>1.000000</td>\n",
              "      <td>1.000000</td>\n",
              "      <td>55.000000</td>\n",
              "      <td>1.000000</td>\n",
              "      <td>44.500000</td>\n",
              "      <td>64.000000</td>\n",
              "      <td>1.000000</td>\n",
              "    </tr>\n",
              "  </tbody>\n",
              "</table>\n",
              "</div>"
            ],
            "text/plain": [
              "           Yrs_Ed   Sthrn_Rgn         Sex  ...        Wage         Age        Marr\n",
              "count  534.000000  534.000000  534.000000  ...  534.000000  534.000000  534.000000\n",
              "mean    13.018727    0.292135    0.458801  ...    9.024064   36.833333    0.655431\n",
              "std      2.615373    0.455170    0.498767  ...    5.139097   11.726573    0.475673\n",
              "min      2.000000    0.000000    0.000000  ...    1.000000   18.000000    0.000000\n",
              "25%     12.000000    0.000000    0.000000  ...    5.250000   28.000000    0.000000\n",
              "50%     12.000000    0.000000    0.000000  ...    7.780000   35.000000    1.000000\n",
              "75%     15.000000    1.000000    1.000000  ...   11.250000   44.000000    1.000000\n",
              "max     18.000000    1.000000    1.000000  ...   44.500000   64.000000    1.000000\n",
              "\n",
              "[8 rows x 8 columns]"
            ]
          },
          "metadata": {},
          "execution_count": 5
        }
      ]
    },
    {
      "cell_type": "markdown",
      "metadata": {
        "id": "KbZdCBioUNaz"
      },
      "source": [
        "OK, so let's run the wage regression using sklearn. For that we first have to recode our categorical variables."
      ]
    },
    {
      "cell_type": "code",
      "metadata": {
        "colab": {
          "base_uri": "https://localhost:8080/"
        },
        "id": "fnKpUSoMjjdO",
        "outputId": "0d2ffa34-ea87-4b86-c899-f5d448fd2880"
      },
      "source": [
        "wage_data['Race'].value_counts()"
      ],
      "execution_count": 6,
      "outputs": [
        {
          "output_type": "execute_result",
          "data": {
            "text/plain": [
              "W    440\n",
              "O     67\n",
              "H     27\n",
              "Name: Race, dtype: int64"
            ]
          },
          "metadata": {},
          "execution_count": 6
        }
      ]
    },
    {
      "cell_type": "code",
      "metadata": {
        "id": "-LKuEUzVkC11"
      },
      "source": [
        "wage_data['Race_H'] = np.where(wage_data['Race'] == \"H\", 1, 0)\n",
        "wage_data['Race_O'] = np.where(wage_data['Race'] == \"O\", 1, 0)"
      ],
      "execution_count": 7,
      "outputs": []
    },
    {
      "cell_type": "markdown",
      "metadata": {
        "id": "021F5z3mVFk8"
      },
      "source": [
        "A more streamlines way of doing this is via `get_dummies` in pandas:"
      ]
    },
    {
      "cell_type": "code",
      "metadata": {
        "colab": {
          "base_uri": "https://localhost:8080/",
          "height": 204
        },
        "id": "i8q556FpVXAu",
        "outputId": "b0b5813c-f64c-45f0-bec2-857b3a78e385"
      },
      "source": [
        "pd.get_dummies(wage_data['Race']).head()"
      ],
      "execution_count": 8,
      "outputs": [
        {
          "output_type": "execute_result",
          "data": {
            "text/html": [
              "<div>\n",
              "<style scoped>\n",
              "    .dataframe tbody tr th:only-of-type {\n",
              "        vertical-align: middle;\n",
              "    }\n",
              "\n",
              "    .dataframe tbody tr th {\n",
              "        vertical-align: top;\n",
              "    }\n",
              "\n",
              "    .dataframe thead th {\n",
              "        text-align: right;\n",
              "    }\n",
              "</style>\n",
              "<table border=\"1\" class=\"dataframe\">\n",
              "  <thead>\n",
              "    <tr style=\"text-align: right;\">\n",
              "      <th></th>\n",
              "      <th>H</th>\n",
              "      <th>O</th>\n",
              "      <th>W</th>\n",
              "    </tr>\n",
              "  </thead>\n",
              "  <tbody>\n",
              "    <tr>\n",
              "      <th>0</th>\n",
              "      <td>1</td>\n",
              "      <td>0</td>\n",
              "      <td>0</td>\n",
              "    </tr>\n",
              "    <tr>\n",
              "      <th>1</th>\n",
              "      <td>0</td>\n",
              "      <td>0</td>\n",
              "      <td>1</td>\n",
              "    </tr>\n",
              "    <tr>\n",
              "      <th>2</th>\n",
              "      <td>0</td>\n",
              "      <td>0</td>\n",
              "      <td>1</td>\n",
              "    </tr>\n",
              "    <tr>\n",
              "      <th>3</th>\n",
              "      <td>0</td>\n",
              "      <td>0</td>\n",
              "      <td>1</td>\n",
              "    </tr>\n",
              "    <tr>\n",
              "      <th>4</th>\n",
              "      <td>0</td>\n",
              "      <td>0</td>\n",
              "      <td>1</td>\n",
              "    </tr>\n",
              "  </tbody>\n",
              "</table>\n",
              "</div>"
            ],
            "text/plain": [
              "   H  O  W\n",
              "0  1  0  0\n",
              "1  0  0  1\n",
              "2  0  0  1\n",
              "3  0  0  1\n",
              "4  0  0  1"
            ]
          },
          "metadata": {},
          "execution_count": 8
        }
      ]
    },
    {
      "cell_type": "markdown",
      "metadata": {
        "id": "c1dcpByoV_qK"
      },
      "source": [
        "We could then add in via `wage_data['Race_H'] = pd.get_dummies(wage_data['Race'])['H']` etc. \n",
        "So let's define our features:\n",
        "\n"
      ]
    },
    {
      "cell_type": "code",
      "metadata": {
        "id": "zl5JCUhmgV8N"
      },
      "source": [
        "X1 = wage_data[['Sex','Age','Race_H','Race_O']]\n",
        "y = wage_data['Wage']"
      ],
      "execution_count": 9,
      "outputs": []
    },
    {
      "cell_type": "code",
      "metadata": {
        "colab": {
          "base_uri": "https://localhost:8080/"
        },
        "id": "0xASAMZGhYCD",
        "outputId": "eb3341c8-564c-47e2-fd9c-b853661ac14e"
      },
      "source": [
        "model1 = LinearRegression(fit_intercept=True)\n",
        "model1.fit(X1, y)\n",
        "print(model1.intercept_)\n",
        "print(model1.coef_)"
      ],
      "execution_count": 10,
      "outputs": [
        {
          "output_type": "stream",
          "name": "stdout",
          "text": [
            "7.223362465207445\n",
            "[-2.29365014  0.08453479 -1.75369486 -1.3708409 ]\n"
          ]
        }
      ]
    },
    {
      "cell_type": "markdown",
      "metadata": {
        "id": "-coohpg2X2f3"
      },
      "source": [
        "So the presentation of the regression results is not as neat as when using R or statsmodels. But as we will see `sklearn` will make it easy to build more advanced models. That's its purpose. "
      ]
    },
    {
      "cell_type": "code",
      "metadata": {
        "id": "gL6rdGrGlafl"
      },
      "source": [
        "X2 = wage_data[['Sex','Age','Race_H','Race_O','Yrs_Ed','Sthrn_Rgn']]"
      ],
      "execution_count": 11,
      "outputs": []
    },
    {
      "cell_type": "code",
      "metadata": {
        "id": "RlprC2nEdXkI",
        "colab": {
          "base_uri": "https://localhost:8080/"
        },
        "outputId": "78aae5ea-3bc6-44bd-a9db-71d6a10cf9b2"
      },
      "source": [
        "model2 = LinearRegression(fit_intercept=True)\n",
        "model2.fit(X2, y)\n",
        "print(model2.intercept_)\n",
        "print(model2.coef_)"
      ],
      "execution_count": 12,
      "outputs": [
        {
          "output_type": "stream",
          "name": "stdout",
          "text": [
            "-4.010835177326475\n",
            "[-2.36433005  0.11123542 -0.22566084 -0.85533841  0.7975608  -0.82842797]\n"
          ]
        }
      ]
    },
    {
      "cell_type": "markdown",
      "metadata": {
        "id": "M1Z6fosaZTDs"
      },
      "source": [
        "Let's run the full regression:"
      ]
    },
    {
      "cell_type": "code",
      "metadata": {
        "id": "AVWT7UjPdXkJ"
      },
      "source": [
        "Occup_d = pd.get_dummies(wage_data['Occup'], prefix='Occup', drop_first=True)\n",
        "Race_d = pd.get_dummies(wage_data['Race'], prefix='Race', drop_first=True)\n",
        "Sect_d = pd.get_dummies(wage_data['Sect'], prefix='Sect', drop_first=True)"
      ],
      "execution_count": 13,
      "outputs": []
    },
    {
      "cell_type": "code",
      "metadata": {
        "id": "A50Q9aYidXkJ"
      },
      "source": [
        "X = wage_data.drop(columns=['Wage','Occup','Race','Sect'])\n",
        "X = pd.concat([X,Occup_d,Race_d,Sect_d], axis=1)"
      ],
      "execution_count": 14,
      "outputs": []
    },
    {
      "cell_type": "code",
      "metadata": {
        "colab": {
          "base_uri": "https://localhost:8080/"
        },
        "id": "oCVcaApOZrB3",
        "outputId": "d6ea6b41-b883-45e9-b244-04ff9b17aa2b"
      },
      "source": [
        "model3 = LinearRegression(fit_intercept=True)\n",
        "model3.fit(X, y)\n",
        "print(model3.intercept_)\n",
        "print(model3.coef_)"
      ],
      "execution_count": 15,
      "outputs": [
        {
          "output_type": "stream",
          "name": "stdout",
          "text": [
            "-0.08503610771832903\n",
            "[ 0.81279135 -0.56274247 -1.94252212  0.24484501  1.60168787 -0.15802823\n",
            "  0.30050151 -0.19633088 -0.21384666  3.26819795 -0.02232313  1.93462877\n",
            " -0.79564391 -0.70717721 -0.21384666  0.41017754  0.56348715 -0.47740163]\n"
          ]
        }
      ]
    },
    {
      "cell_type": "markdown",
      "metadata": {
        "id": "BoXT14zmbT36"
      },
      "source": [
        "And let's check the residuals."
      ]
    },
    {
      "cell_type": "code",
      "metadata": {
        "id": "fiqzgjEAdXkK",
        "colab": {
          "base_uri": "https://localhost:8080/",
          "height": 355
        },
        "outputId": "b9b8c416-022d-434c-a054-ff89472190d2"
      },
      "source": [
        "ypred = model3.predict(X)\n",
        "eps = y - ypred\n",
        "plt.hist(eps)"
      ],
      "execution_count": 16,
      "outputs": [
        {
          "output_type": "execute_result",
          "data": {
            "text/plain": [
              "(array([ 14., 147., 268.,  73.,  25.,   6.,   0.,   0.,   0.,   1.]),\n",
              " array([-11.40903022,  -6.76600187,  -2.12297353,   2.52005481,\n",
              "          7.16308315,  11.80611149,  16.44913983,  21.09216817,\n",
              "         25.73519652,  30.37822486,  35.0212532 ]),\n",
              " <a list of 10 Patch objects>)"
            ]
          },
          "metadata": {},
          "execution_count": 16
        },
        {
          "output_type": "display_data",
          "data": {
            "image/png": "[encoded data removed]",
            "text/plain": [
              "<Figure size 432x288 with 1 Axes>"
            ]
          },
          "metadata": {
            "needs_background": "light"
          }
        }
      ]
    }
  ]
}