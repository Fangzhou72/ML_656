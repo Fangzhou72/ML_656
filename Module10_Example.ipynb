{
  "nbformat": 4,
  "nbformat_minor": 0,
  "metadata": {
    "kernelspec": {
      "display_name": "Python 3",
      "language": "python",
      "name": "python3"
    },
    "language_info": {
      "codemirror_mode": {
        "name": "ipython",
        "version": 3
      },
      "file_extension": ".py",
      "mimetype": "text/x-python",
      "name": "python",
      "nbconvert_exporter": "python",
      "pygments_lexer": "ipython3",
      "version": "3.8.3"
    },
    "colab": {
      "name": "Module10_Example.ipynb",
      "provenance": [],
      "collapsed_sections": [],
      "include_colab_link": true
    }
  },
  "cells": [
    {
      "cell_type": "markdown",
      "metadata": {
        "id": "view-in-github",
        "colab_type": "text"
      },
      "source": [
        "<a href=\"https://colab.research.google.com/github/danielbauer1979/ML_656/blob/main/Module10_Example.ipynb\" target=\"_parent\"><img src=\"https://colab.research.google.com/assets/colab-badge.svg\" alt=\"Open In Colab\"/></a>"
      ]
    },
    {
      "cell_type": "code",
      "metadata": {
        "id": "7vCC-SQb7VRR"
      },
      "source": [
        "import numpy as np \n",
        "import matplotlib.pyplot as plt  \n",
        "import pandas as pd   \n",
        "from random import sample\n",
        "\n",
        "from sklearn.preprocessing import MinMaxScaler # For rescaling metrics to fit 0 to 1 range\n",
        "from sklearn.cluster import KMeans, AgglomerativeClustering\n",
        "from sklearn.decomposition import PCA\n",
        "from scipy.spatial.distance import euclidean"
      ],
      "execution_count": 9,
      "outputs": []
    },
    {
      "cell_type": "markdown",
      "metadata": {
        "id": "pCpF2a9bae_R"
      },
      "source": [
        "##Prep dataset"
      ]
    },
    {
      "cell_type": "code",
      "metadata": {
        "colab": {
          "base_uri": "https://localhost:8080/"
        },
        "id": "Ge_n_HRNgRm0",
        "outputId": "c1121660-6bbb-47c5-95b7-a4e4079fee3c"
      },
      "source": [
        "!git clone https://github.com/danielbauer1979/ML_656.git"
      ],
      "execution_count": 18,
      "outputs": [
        {
          "output_type": "stream",
          "name": "stdout",
          "text": [
            "Cloning into 'ML_656'...\n",
            "remote: Enumerating objects: 111, done.\u001b[K\n",
            "remote: Counting objects: 100% (111/111), done.\u001b[K\n",
            "remote: Compressing objects: 100% (110/110), done.\u001b[K\n",
            "remote: Total 111 (delta 50), reused 0 (delta 0), pack-reused 0\u001b[K\n",
            "Receiving objects: 100% (111/111), 21.71 MiB | 3.51 MiB/s, done.\n",
            "Resolving deltas: 100% (50/50), done.\n"
          ]
        }
      ]
    },
    {
      "cell_type": "code",
      "metadata": {
        "id": "2whMtWdEgtAh"
      },
      "source": [
        "health = pd.read_csv('ML_656/countyHealthRR.csv')"
      ],
      "execution_count": 42,
      "outputs": []
    },
    {
      "cell_type": "code",
      "metadata": {
        "id": "012bX41Lg9dF"
      },
      "source": [
        "health = health.drop(columns=['FIPS','State','County','Perc.Fair.Poor.Health','Perc.Smokers','Perc.Excessive.Drinking','MV.Mortality.Rate','Pr.Care.Physician.Ratio','Perc.No.Soc.Emo.Support'])"
      ],
      "execution_count": 43,
      "outputs": []
    },
    {
      "cell_type": "code",
      "metadata": {
        "id": "nm0Hb3CxhytE"
      },
      "source": [
        "health = health.dropna()"
      ],
      "execution_count": 44,
      "outputs": []
    },
    {
      "cell_type": "code",
      "metadata": {
        "colab": {
          "base_uri": "https://localhost:8080/"
        },
        "id": "dBA4xsFHi0fm",
        "outputId": "5c3eff8a-fb0a-4fbe-999a-552a81598c28"
      },
      "source": [
        "health.info()"
      ],
      "execution_count": 45,
      "outputs": [
        {
          "output_type": "stream",
          "name": "stdout",
          "text": [
            "<class 'pandas.core.frame.DataFrame'>\n",
            "Int64Index: 2387 entries, 0 to 3140\n",
            "Data columns (total 24 columns):\n",
            " #   Column                     Non-Null Count  Dtype  \n",
            "---  ------                     --------------  -----  \n",
            " 0   YPLL.Rate                  2387 non-null   float64\n",
            " 1   Physically.Unhealthy.Days  2387 non-null   float64\n",
            " 2   Mentally.Unhealthy.Days    2387 non-null   float64\n",
            " 3   Perc.Low.Birth.Weight      2387 non-null   float64\n",
            " 4   Perc.Obese                 2387 non-null   int64  \n",
            " 5   Perc.Physically.Inactive   2387 non-null   int64  \n",
            " 6   Chlamydia.Rate             2387 non-null   float64\n",
            " 7   Teen.Birth.Rate            2387 non-null   float64\n",
            " 8   Perc.Uninsured             2387 non-null   float64\n",
            " 9   Dentist.Ratio              2387 non-null   float64\n",
            " 10  Prev.Hosp.Stay.Rate        2387 non-null   float64\n",
            " 11  Perc.Diabetic.Screening    2387 non-null   float64\n",
            " 12  Perc.Mammography           2387 non-null   float64\n",
            " 13  Perc.High.School.Grad      2387 non-null   float64\n",
            " 14  Perc.Some.College          2387 non-null   float64\n",
            " 15  Perc.Unemployed            2387 non-null   float64\n",
            " 16  Perc.Children.in.Poverty   2387 non-null   float64\n",
            " 17  Perc.Single.Parent.HH      2387 non-null   float64\n",
            " 18  Violent.Crime.Rate         2387 non-null   float64\n",
            " 19  Avg.Daily.Particulates     2387 non-null   float64\n",
            " 20  Perc.pop.in.viol           2387 non-null   float64\n",
            " 21  Rec.Facility.Rate          2387 non-null   float64\n",
            " 22  Perc.Limited.Access        2387 non-null   int64  \n",
            " 23  Perc.Fast.Foods            2387 non-null   float64\n",
            "dtypes: float64(21), int64(3)\n",
            "memory usage: 466.2 KB\n"
          ]
        }
      ]
    },
    {
      "cell_type": "code",
      "metadata": {
        "id": "ufjNcxv6imPI"
      },
      "source": [
        "#col_types = health.columns.to_series().groupby(health.dtypes).groups\n",
        "#numerics = list(health.select_dtypes(include=['int64','float64']).columns)\n",
        "#factors = list(health.select_dtypes(include=['object']).columns)"
      ],
      "execution_count": 49,
      "outputs": []
    },
    {
      "cell_type": "code",
      "metadata": {
        "id": "1MxwkdH4jKRm"
      },
      "source": [
        "#health_numcols = health[numerics]\n",
        "#health_faccols = health[factors]\n",
        "#dummies = pd.get_dummies(health_faccols)\n",
        "#scaler = MinMaxScaler()\n",
        "#scaler.fit(health_numcols)\n",
        "#health_numcols_sc_0 = scaler.transform(health_numcols)\n",
        "#health_numcols_sc = pd.DataFrame(data=health_numcols_sc_0, columns = health_numcols.columns, index = dummies.index)"
      ],
      "execution_count": 48,
      "outputs": []
    },
    {
      "cell_type": "code",
      "metadata": {
        "colab": {
          "base_uri": "https://localhost:8080/",
          "height": 226
        },
        "id": "aVSWGGQ-kVhg",
        "outputId": "be487f4b-bf5b-4bf7-9cfc-4657939cc5e6"
      },
      "source": [
        "#health_sc = pd.concat([health_numcols_sc, dummies], axis = 1)\n",
        "scaler = MinMaxScaler()\n",
        "scaler.fit(health)\n",
        "health_sc_0 = scaler.transform(health)\n",
        "health_sc = pd.DataFrame(data=health_sc_0, columns = health.columns, index = dummies.index)\n",
        "health_sc.head()"
      ],
      "execution_count": 50,
      "outputs": [
        {
          "output_type": "execute_result",
          "data": {
            "text/html": [
              "<div>\n",
              "<style scoped>\n",
              "    .dataframe tbody tr th:only-of-type {\n",
              "        vertical-align: middle;\n",
              "    }\n",
              "\n",
              "    .dataframe tbody tr th {\n",
              "        vertical-align: top;\n",
              "    }\n",
              "\n",
              "    .dataframe thead th {\n",
              "        text-align: right;\n",
              "    }\n",
              "</style>\n",
              "<table border=\"1\" class=\"dataframe\">\n",
              "  <thead>\n",
              "    <tr style=\"text-align: right;\">\n",
              "      <th></th>\n",
              "      <th>YPLL.Rate</th>\n",
              "      <th>Physically.Unhealthy.Days</th>\n",
              "      <th>Mentally.Unhealthy.Days</th>\n",
              "      <th>Perc.Low.Birth.Weight</th>\n",
              "      <th>Perc.Obese</th>\n",
              "      <th>Perc.Physically.Inactive</th>\n",
              "      <th>Chlamydia.Rate</th>\n",
              "      <th>Teen.Birth.Rate</th>\n",
              "      <th>Perc.Uninsured</th>\n",
              "      <th>Dentist.Ratio</th>\n",
              "      <th>Prev.Hosp.Stay.Rate</th>\n",
              "      <th>Perc.Diabetic.Screening</th>\n",
              "      <th>Perc.Mammography</th>\n",
              "      <th>Perc.High.School.Grad</th>\n",
              "      <th>Perc.Some.College</th>\n",
              "      <th>Perc.Unemployed</th>\n",
              "      <th>Perc.Children.in.Poverty</th>\n",
              "      <th>Perc.Single.Parent.HH</th>\n",
              "      <th>Violent.Crime.Rate</th>\n",
              "      <th>Avg.Daily.Particulates</th>\n",
              "      <th>Perc.pop.in.viol</th>\n",
              "      <th>Rec.Facility.Rate</th>\n",
              "      <th>Perc.Limited.Access</th>\n",
              "      <th>Perc.Fast.Foods</th>\n",
              "    </tr>\n",
              "  </thead>\n",
              "  <tbody>\n",
              "    <tr>\n",
              "      <th>0</th>\n",
              "      <td>0.319421</td>\n",
              "      <td>0.527778</td>\n",
              "      <td>0.538462</td>\n",
              "      <td>0.425532</td>\n",
              "      <td>0.588235</td>\n",
              "      <td>0.647059</td>\n",
              "      <td>0.161693</td>\n",
              "      <td>0.336207</td>\n",
              "      <td>0.272727</td>\n",
              "      <td>0.326869</td>\n",
              "      <td>0.207317</td>\n",
              "      <td>0.826087</td>\n",
              "      <td>0.675439</td>\n",
              "      <td>0.726027</td>\n",
              "      <td>0.464286</td>\n",
              "      <td>0.241259</td>\n",
              "      <td>0.293103</td>\n",
              "      <td>0.309859</td>\n",
              "      <td>0.150981</td>\n",
              "      <td>0.821429</td>\n",
              "      <td>0.00</td>\n",
              "      <td>0.116987</td>\n",
              "      <td>0.227273</td>\n",
              "      <td>0.483871</td>\n",
              "    </tr>\n",
              "    <tr>\n",
              "      <th>1</th>\n",
              "      <td>0.283746</td>\n",
              "      <td>0.277778</td>\n",
              "      <td>0.461538</td>\n",
              "      <td>0.382979</td>\n",
              "      <td>0.352941</td>\n",
              "      <td>0.441176</td>\n",
              "      <td>0.136303</td>\n",
              "      <td>0.379310</td>\n",
              "      <td>0.424242</td>\n",
              "      <td>0.153460</td>\n",
              "      <td>0.146341</td>\n",
              "      <td>0.768116</td>\n",
              "      <td>0.700000</td>\n",
              "      <td>0.643836</td>\n",
              "      <td>0.578869</td>\n",
              "      <td>0.244755</td>\n",
              "      <td>0.293103</td>\n",
              "      <td>0.338028</td>\n",
              "      <td>0.108203</td>\n",
              "      <td>0.642857</td>\n",
              "      <td>0.08</td>\n",
              "      <td>0.139423</td>\n",
              "      <td>0.113636</td>\n",
              "      <td>0.301075</td>\n",
              "    </tr>\n",
              "    <tr>\n",
              "      <th>2</th>\n",
              "      <td>0.383117</td>\n",
              "      <td>0.513889</td>\n",
              "      <td>0.507692</td>\n",
              "      <td>0.631206</td>\n",
              "      <td>0.676471</td>\n",
              "      <td>0.705882</td>\n",
              "      <td>0.287305</td>\n",
              "      <td>0.603448</td>\n",
              "      <td>0.424242</td>\n",
              "      <td>0.267023</td>\n",
              "      <td>0.361789</td>\n",
              "      <td>0.840580</td>\n",
              "      <td>0.610526</td>\n",
              "      <td>0.465753</td>\n",
              "      <td>0.281250</td>\n",
              "      <td>0.360140</td>\n",
              "      <td>0.620690</td>\n",
              "      <td>0.746479</td>\n",
              "      <td>0.075491</td>\n",
              "      <td>0.678571</td>\n",
              "      <td>0.08</td>\n",
              "      <td>0.059295</td>\n",
              "      <td>0.250000</td>\n",
              "      <td>0.526882</td>\n",
              "    </tr>\n",
              "    <tr>\n",
              "      <th>3</th>\n",
              "      <td>0.505916</td>\n",
              "      <td>0.513889</td>\n",
              "      <td>0.692308</td>\n",
              "      <td>0.602837</td>\n",
              "      <td>0.588235</td>\n",
              "      <td>0.794118</td>\n",
              "      <td>0.145657</td>\n",
              "      <td>0.379310</td>\n",
              "      <td>0.393939</td>\n",
              "      <td>0.447788</td>\n",
              "      <td>0.272358</td>\n",
              "      <td>0.826087</td>\n",
              "      <td>0.477193</td>\n",
              "      <td>0.630137</td>\n",
              "      <td>0.285714</td>\n",
              "      <td>0.307692</td>\n",
              "      <td>0.465517</td>\n",
              "      <td>0.478873</td>\n",
              "      <td>0.123805</td>\n",
              "      <td>0.869048</td>\n",
              "      <td>0.00</td>\n",
              "      <td>0.070513</td>\n",
              "      <td>0.045455</td>\n",
              "      <td>0.408602</td>\n",
              "    </tr>\n",
              "    <tr>\n",
              "      <th>4</th>\n",
              "      <td>0.327074</td>\n",
              "      <td>0.541667</td>\n",
              "      <td>0.492308</td>\n",
              "      <td>0.297872</td>\n",
              "      <td>0.529412</td>\n",
              "      <td>0.764706</td>\n",
              "      <td>0.050334</td>\n",
              "      <td>0.387931</td>\n",
              "      <td>0.424242</td>\n",
              "      <td>0.474646</td>\n",
              "      <td>0.304878</td>\n",
              "      <td>0.811594</td>\n",
              "      <td>0.631579</td>\n",
              "      <td>0.739726</td>\n",
              "      <td>0.299107</td>\n",
              "      <td>0.251748</td>\n",
              "      <td>0.310345</td>\n",
              "      <td>0.309859</td>\n",
              "      <td>0.051334</td>\n",
              "      <td>0.785714</td>\n",
              "      <td>0.07</td>\n",
              "      <td>0.083333</td>\n",
              "      <td>0.022727</td>\n",
              "      <td>0.526882</td>\n",
              "    </tr>\n",
              "  </tbody>\n",
              "</table>\n",
              "</div>"
            ],
            "text/plain": [
              "   YPLL.Rate  Physically.Unhealthy.Days  ...  Perc.Limited.Access  Perc.Fast.Foods\n",
              "0   0.319421                   0.527778  ...             0.227273         0.483871\n",
              "1   0.283746                   0.277778  ...             0.113636         0.301075\n",
              "2   0.383117                   0.513889  ...             0.250000         0.526882\n",
              "3   0.505916                   0.513889  ...             0.045455         0.408602\n",
              "4   0.327074                   0.541667  ...             0.022727         0.526882\n",
              "\n",
              "[5 rows x 24 columns]"
            ]
          },
          "metadata": {},
          "execution_count": 50
        }
      ]
    },
    {
      "cell_type": "markdown",
      "metadata": {
        "id": "DzeYPjzOmYs5"
      },
      "source": [
        "K-Means clustering"
      ]
    },
    {
      "cell_type": "code",
      "metadata": {
        "colab": {
          "base_uri": "https://localhost:8080/",
          "height": 295
        },
        "id": "NF4Tvu-imXH7",
        "outputId": "dfbd576a-a4f2-488f-fbda-07fac27427ef"
      },
      "source": [
        "wcss = []\n",
        "for i in range(2, 12):\n",
        "    kmeans = KMeans(n_clusters=i, init='k-means++', max_iter=1000, n_init=10, random_state=0)\n",
        "    kmeans.fit(health_sc)\n",
        "    wcss.append(kmeans.inertia_)\n",
        "plt.plot(range(2, 12), wcss)\n",
        "plt.title('Elbow Method')\n",
        "plt.xlabel('Number of clusters')\n",
        "plt.ylabel('WCSS')\n",
        "plt.show()"
      ],
      "execution_count": 54,
      "outputs": [
        {
          "output_type": "display_data",
          "data": {
            "image/png": "[encoded data removed]",
            "text/plain": [
              "<Figure size 432x288 with 1 Axes>"
            ]
          },
          "metadata": {
            "needs_background": "light"
          }
        }
      ]
    },
    {
      "cell_type": "code",
      "metadata": {
        "colab": {
          "base_uri": "https://localhost:8080/"
        },
        "id": "0J1JGhuVnqGv",
        "outputId": "42f947f8-472e-4324-ccbd-ffd87c119217"
      },
      "source": [
        "kmeans = KMeans(n_clusters=6, init='k-means++', max_iter=1000, n_init=10, random_state=0)\n",
        "kmeans.fit(health_sc)\n",
        "kmeans.cluster_centers_"
      ],
      "execution_count": 56,
      "outputs": [
        {
          "output_type": "execute_result",
          "data": {
            "text/plain": [
              "array([[0.15711096, 0.22839241, 0.31038396, 0.23463864, 0.39784078,\n",
              "        0.38386641, 0.09226984, 0.1722955 , 0.23234056, 0.15478683,\n",
              "        0.15385795, 0.85415268, 0.69080377, 0.82083696, 0.64773493,\n",
              "        0.19687774, 0.19347016, 0.28545889, 0.08825893, 0.46434697,\n",
              "        0.06269297, 0.19149679, 0.12634492, 0.36590494],\n",
              "       [0.26398566, 0.33692286, 0.42289501, 0.33168008, 0.48658585,\n",
              "        0.51242051, 0.13421492, 0.30469478, 0.34433866, 0.21060422,\n",
              "        0.21460943, 0.82997944, 0.62845543, 0.76929841, 0.4804411 ,\n",
              "        0.28262616, 0.32103332, 0.38094785, 0.13983035, 0.73898005,\n",
              "        0.03815878, 0.13644263, 0.12703471, 0.43571999],\n",
              "       [0.44755985, 0.40337457, 0.4468149 , 0.56513187, 0.62672335,\n",
              "        0.65107996, 0.32771785, 0.54640356, 0.49360795, 0.2884822 ,\n",
              "        0.29449314, 0.76064312, 0.53676672, 0.61997003, 0.32789249,\n",
              "        0.35642483, 0.56452047, 0.60926496, 0.29283703, 0.63578869,\n",
              "        0.04519531, 0.086094  , 0.20703125, 0.50386425],\n",
              "       [0.2797067 , 0.33135802, 0.39063248, 0.29483058, 0.43816993,\n",
              "        0.46627451, 0.12374165, 0.3805364 , 0.49555556, 0.22396523,\n",
              "        0.19666667, 0.78605475, 0.55683431, 0.73765601, 0.45795966,\n",
              "        0.26306138, 0.36475096, 0.3686072 , 0.14742381, 0.35325397,\n",
              "        0.05524444, 0.12344017, 0.21535354, 0.37027479],\n",
              "       [0.4139952 , 0.51549865, 0.56089571, 0.39546176, 0.55398763,\n",
              "        0.66870144, 0.11123371, 0.47116368, 0.4634485 , 0.41088795,\n",
              "        0.35823856, 0.79268721, 0.48968648, 0.74589226, 0.29469901,\n",
              "        0.31170716, 0.45705921, 0.38829202, 0.11704109, 0.7176229 ,\n",
              "        0.05277628, 0.0750095 , 0.13268807, 0.46167   ],\n",
              "       [0.38113241, 0.40751029, 0.46358974, 0.36868926, 0.52156863,\n",
              "        0.60653595, 0.13463004, 0.45900383, 0.48597082, 0.29849466,\n",
              "        0.29647696, 0.75276436, 0.48133853, 0.7348554 , 0.36944444,\n",
              "        0.24861435, 0.4238825 , 0.41648409, 0.14564298, 0.50687831,\n",
              "        0.66859259, 0.10644587, 0.20420875, 0.42939068]])"
            ]
          },
          "metadata": {},
          "execution_count": 56
        }
      ]
    },
    {
      "cell_type": "markdown",
      "metadata": {
        "id": "m4l2tN9WpQmC"
      },
      "source": [
        "PCA"
      ]
    },
    {
      "cell_type": "code",
      "metadata": {
        "colab": {
          "base_uri": "https://localhost:8080/"
        },
        "id": "RMy-DCfwo9SH",
        "outputId": "2b3608cc-7958-42a6-fdf5-56ba1097d79a"
      },
      "source": [
        "pca = PCA(n_components=2)\n",
        "principalComponents = pca.fit_transform(health_sc)\n",
        "principalComponents"
      ],
      "execution_count": 57,
      "outputs": [
        {
          "output_type": "execute_result",
          "data": {
            "text/plain": [
              "array([[ 0.14605474, -0.32193259],\n",
              "       [-0.14095189, -0.01389763],\n",
              "       [ 0.68108276, -0.01940338],\n",
              "       ...,\n",
              "       [-0.2619038 ,  0.28229786],\n",
              "       [-0.4163065 ,  0.54073209],\n",
              "       [-0.23821772,  0.37793634]])"
            ]
          },
          "metadata": {},
          "execution_count": 57
        }
      ]
    }
  ]
}