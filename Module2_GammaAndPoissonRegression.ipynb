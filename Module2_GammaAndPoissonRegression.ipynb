{
  "nbformat": 4,
  "nbformat_minor": 0,
  "metadata": {
    "kernelspec": {
      "display_name": "Python 3",
      "language": "python",
      "name": "python3"
    },
    "language_info": {
      "codemirror_mode": {
        "name": "ipython",
        "version": 3
      },
      "file_extension": ".py",
      "mimetype": "text/x-python",
      "name": "python",
      "nbconvert_exporter": "python",
      "pygments_lexer": "ipython3",
      "version": "3.8.3"
    },
    "colab": {
      "name": "Module2_GammaAndPoissonRegression_without.ipynb",
      "provenance": [],
      "collapsed_sections": [],
      "include_colab_link": true
    }
  },
  "cells": [
    {
      "cell_type": "markdown",
      "metadata": {
        "id": "view-in-github",
        "colab_type": "text"
      },
      "source": [
        "<a href=\"https://colab.research.google.com/github/danielbauer1979/ML_656/blob/main/Module2_GammaAndPoissonRegression.ipynb\" target=\"_parent\"><img src=\"https://colab.research.google.com/assets/colab-badge.svg\" alt=\"Open In Colab\"/></a>"
      ]
    },
    {
      "cell_type": "code",
      "metadata": {
        "colab": {
          "base_uri": "https://localhost:8080/",
          "height": 919
        },
        "id": "ys6ZlJ6TCSCw",
        "outputId": "27f076b1-4609-4354-8e6c-e746dbae77b2"
      },
      "source": [
        "!pip install scikit-lego #so it appears the skikit learn in Colab doesn't have GLMs in it. This should fiox"
      ],
      "execution_count": 2,
      "outputs": [
        {
          "output_type": "stream",
          "name": "stdout",
          "text": [
            "Collecting scikit-lego\n",
            "  Downloading scikit_lego-0.6.8-py2.py3-none-any.whl (222 kB)\n",
            "\u001b[?25l\r\u001b[K     |█▌                              | 10 kB 28.4 MB/s eta 0:00:01\r\u001b[K     |███                             | 20 kB 25.7 MB/s eta 0:00:01\r\u001b[K     |████▍                           | 30 kB 17.4 MB/s eta 0:00:01\r\u001b[K     |█████▉                          | 40 kB 14.5 MB/s eta 0:00:01\r\u001b[K     |███████▍                        | 51 kB 6.5 MB/s eta 0:00:01\r\u001b[K     |████████▉                       | 61 kB 6.9 MB/s eta 0:00:01\r\u001b[K     |██████████▎                     | 71 kB 7.4 MB/s eta 0:00:01\r\u001b[K     |███████████▊                    | 81 kB 8.4 MB/s eta 0:00:01\r\u001b[K     |█████████████▎                  | 92 kB 8.5 MB/s eta 0:00:01\r\u001b[K     |██████████████▊                 | 102 kB 6.4 MB/s eta 0:00:01\r\u001b[K     |████████████████▏               | 112 kB 6.4 MB/s eta 0:00:01\r\u001b[K     |█████████████████▋              | 122 kB 6.4 MB/s eta 0:00:01\r\u001b[K     |███████████████████▏            | 133 kB 6.4 MB/s eta 0:00:01\r\u001b[K     |████████████████████▋           | 143 kB 6.4 MB/s eta 0:00:01\r\u001b[K     |██████████████████████          | 153 kB 6.4 MB/s eta 0:00:01\r\u001b[K     |███████████████████████▌        | 163 kB 6.4 MB/s eta 0:00:01\r\u001b[K     |█████████████████████████       | 174 kB 6.4 MB/s eta 0:00:01\r\u001b[K     |██████████████████████████▌     | 184 kB 6.4 MB/s eta 0:00:01\r\u001b[K     |████████████████████████████    | 194 kB 6.4 MB/s eta 0:00:01\r\u001b[K     |█████████████████████████████▍  | 204 kB 6.4 MB/s eta 0:00:01\r\u001b[K     |██████████████████████████████▉ | 215 kB 6.4 MB/s eta 0:00:01\r\u001b[K     |████████████████████████████████| 222 kB 6.4 MB/s \n",
            "\u001b[?25hCollecting umap-learn>=0.4.6\n",
            "  Downloading umap-learn-0.5.1.tar.gz (80 kB)\n",
            "\u001b[?25l\r\u001b[K     |████                            | 10 kB 34.4 MB/s eta 0:00:01\r\u001b[K     |████████                        | 20 kB 36.7 MB/s eta 0:00:01\r\u001b[K     |████████████▏                   | 30 kB 34.8 MB/s eta 0:00:01\r\u001b[K     |████████████████▏               | 40 kB 36.5 MB/s eta 0:00:01\r\u001b[K     |████████████████████▎           | 51 kB 38.8 MB/s eta 0:00:01\r\u001b[K     |████████████████████████▎       | 61 kB 42.5 MB/s eta 0:00:01\r\u001b[K     |████████████████████████████▍   | 71 kB 44.7 MB/s eta 0:00:01\r\u001b[K     |████████████████████████████████| 80 kB 9.4 MB/s \n",
            "\u001b[?25hRequirement already satisfied: patsy>=0.5.1 in /usr/local/lib/python3.7/dist-packages (from scikit-lego) (0.5.2)\n",
            "Requirement already satisfied: autograd>=1.2 in /usr/local/lib/python3.7/dist-packages (from scikit-lego) (1.3)\n",
            "Requirement already satisfied: pandas>=1.1.5 in /usr/local/lib/python3.7/dist-packages (from scikit-lego) (1.1.5)\n",
            "Collecting scikit-learn>=0.24.1\n",
            "  Downloading scikit_learn-1.0-cp37-cp37m-manylinux_2_12_x86_64.manylinux2010_x86_64.whl (23.1 MB)\n",
            "\u001b[K     |████████████████████████████████| 23.1 MB 1.9 MB/s \n",
            "\u001b[?25hCollecting Deprecated>=1.2.6\n",
            "  Downloading Deprecated-1.2.13-py2.py3-none-any.whl (9.6 kB)\n",
            "Requirement already satisfied: future>=0.15.2 in /usr/local/lib/python3.7/dist-packages (from autograd>=1.2->scikit-lego) (0.16.0)\n",
            "Requirement already satisfied: numpy>=1.12 in /usr/local/lib/python3.7/dist-packages (from autograd>=1.2->scikit-lego) (1.19.5)\n",
            "Requirement already satisfied: wrapt<2,>=1.10 in /usr/local/lib/python3.7/dist-packages (from Deprecated>=1.2.6->scikit-lego) (1.12.1)\n",
            "Requirement already satisfied: python-dateutil>=2.7.3 in /usr/local/lib/python3.7/dist-packages (from pandas>=1.1.5->scikit-lego) (2.8.2)\n",
            "Requirement already satisfied: pytz>=2017.2 in /usr/local/lib/python3.7/dist-packages (from pandas>=1.1.5->scikit-lego) (2018.9)\n",
            "Requirement already satisfied: six in /usr/local/lib/python3.7/dist-packages (from patsy>=0.5.1->scikit-lego) (1.15.0)\n",
            "Requirement already satisfied: scipy>=1.1.0 in /usr/local/lib/python3.7/dist-packages (from scikit-learn>=0.24.1->scikit-lego) (1.4.1)\n",
            "Collecting threadpoolctl>=2.0.0\n",
            "  Downloading threadpoolctl-3.0.0-py3-none-any.whl (14 kB)\n",
            "Requirement already satisfied: joblib>=0.11 in /usr/local/lib/python3.7/dist-packages (from scikit-learn>=0.24.1->scikit-lego) (1.0.1)\n",
            "Requirement already satisfied: numba>=0.49 in /usr/local/lib/python3.7/dist-packages (from umap-learn>=0.4.6->scikit-lego) (0.51.2)\n",
            "Collecting pynndescent>=0.5\n",
            "  Downloading pynndescent-0.5.4.tar.gz (1.1 MB)\n",
            "\u001b[K     |████████████████████████████████| 1.1 MB 72.5 MB/s \n",
            "\u001b[?25hRequirement already satisfied: llvmlite<0.35,>=0.34.0.dev0 in /usr/local/lib/python3.7/dist-packages (from numba>=0.49->umap-learn>=0.4.6->scikit-lego) (0.34.0)\n",
            "Requirement already satisfied: setuptools in /usr/local/lib/python3.7/dist-packages (from numba>=0.49->umap-learn>=0.4.6->scikit-lego) (57.4.0)\n",
            "Building wheels for collected packages: umap-learn, pynndescent\n",
            "  Building wheel for umap-learn (setup.py) ... \u001b[?25l\u001b[?25hdone\n",
            "  Created wheel for umap-learn: filename=umap_learn-0.5.1-py3-none-any.whl size=76564 sha256=f22d51be46138c4e7eb148dbc7abdb66a55334e6e1c4065a7b43418e6bb0c3ff\n",
            "  Stored in directory: /root/.cache/pip/wheels/01/e7/bb/347dc0e510803d7116a13d592b10cc68262da56a8eec4dd72f\n",
            "  Building wheel for pynndescent (setup.py) ... \u001b[?25l\u001b[?25hdone\n",
            "  Created wheel for pynndescent: filename=pynndescent-0.5.4-py3-none-any.whl size=52373 sha256=f6f226edfb39625eb2288a5b58190e580e8ab7f0914557211bf9d663570477d6\n",
            "  Stored in directory: /root/.cache/pip/wheels/d0/5b/62/3401692ddad12324249c774c4b15ccb046946021e2b581c043\n",
            "Successfully built umap-learn pynndescent\n",
            "Installing collected packages: threadpoolctl, scikit-learn, pynndescent, umap-learn, Deprecated, scikit-lego\n",
            "  Attempting uninstall: scikit-learn\n",
            "    Found existing installation: scikit-learn 0.22.2.post1\n",
            "    Uninstalling scikit-learn-0.22.2.post1:\n",
            "      Successfully uninstalled scikit-learn-0.22.2.post1\n",
            "Successfully installed Deprecated-1.2.13 pynndescent-0.5.4 scikit-learn-1.0 scikit-lego-0.6.8 threadpoolctl-3.0.0 umap-learn-0.5.1\n"
          ]
        },
        {
          "output_type": "display_data",
          "data": {
            "application/vnd.colab-display-data+json": {
              "pip_warning": {
                "packages": [
                  "sklearn"
                ]
              }
            }
          },
          "metadata": {}
        }
      ]
    },
    {
      "cell_type": "code",
      "metadata": {
        "id": "aL8OZzdpMbDG"
      },
      "source": [
        "import numpy as np \n",
        "import pandas as pd\n",
        "import matplotlib.pyplot as plt\n",
        "from sklearn.model_selection import train_test_split\n",
        "from sklearn.linear_model import PoissonRegressor\n",
        "from sklearn.linear_model import GammaRegressor"
      ],
      "execution_count": 1,
      "outputs": []
    },
    {
      "cell_type": "code",
      "metadata": {
        "colab": {
          "base_uri": "https://localhost:8080/"
        },
        "id": "_Bglok6-BCHZ",
        "outputId": "9cb6c9fa-4c98-4a1c-e09b-26998d51fd10"
      },
      "source": [
        "#!git clone https://github.com/danielbauer1979/ML_656.git"
      ],
      "execution_count": 2,
      "outputs": [
        {
          "output_type": "stream",
          "name": "stdout",
          "text": [
            "Cloning into 'ML_656'...\n",
            "remote: Enumerating objects: 50, done.\u001b[K\n",
            "remote: Counting objects: 100% (50/50), done.\u001b[K\n",
            "remote: Compressing objects: 100% (49/49), done.\u001b[K\n",
            "remote: Total 50 (delta 18), reused 0 (delta 0), pack-reused 0\u001b[K\n",
            "Unpacking objects: 100% (50/50), done.\n"
          ]
        }
      ]
    },
    {
      "cell_type": "code",
      "metadata": {
        "colab": {
          "base_uri": "https://localhost:8080/",
          "height": 306
        },
        "id": "oUQXZq64MbDI",
        "outputId": "6aa9d0e5-ef61-44c8-d821-67a5381553d7"
      },
      "source": [
        "dat_frq1 = pd.read_csv('ML_656/freMTPLfreq1.csv')\n",
        "dat_frq2 = pd.read_csv('ML_656/freMTPLfreq2.csv')\n",
        "dat_frq = pd.concat([dat_frq1,dat_frq2])\n",
        "dat_frq.head() "
      ],
      "execution_count": 2,
      "outputs": [
        {
          "output_type": "execute_result",
          "data": {
            "text/html": [
              "<div>\n",
              "<style scoped>\n",
              "    .dataframe tbody tr th:only-of-type {\n",
              "        vertical-align: middle;\n",
              "    }\n",
              "\n",
              "    .dataframe tbody tr th {\n",
              "        vertical-align: top;\n",
              "    }\n",
              "\n",
              "    .dataframe thead th {\n",
              "        text-align: right;\n",
              "    }\n",
              "</style>\n",
              "<table border=\"1\" class=\"dataframe\">\n",
              "  <thead>\n",
              "    <tr style=\"text-align: right;\">\n",
              "      <th></th>\n",
              "      <th>Unnamed: 0</th>\n",
              "      <th>PolicyID</th>\n",
              "      <th>ClaimNb</th>\n",
              "      <th>Exposure</th>\n",
              "      <th>Power</th>\n",
              "      <th>CarAge</th>\n",
              "      <th>DriverAge</th>\n",
              "      <th>Brand</th>\n",
              "      <th>Gas</th>\n",
              "      <th>Region</th>\n",
              "      <th>Density</th>\n",
              "    </tr>\n",
              "  </thead>\n",
              "  <tbody>\n",
              "    <tr>\n",
              "      <th>0</th>\n",
              "      <td>1</td>\n",
              "      <td>1</td>\n",
              "      <td>0</td>\n",
              "      <td>0.09</td>\n",
              "      <td>g</td>\n",
              "      <td>0</td>\n",
              "      <td>46</td>\n",
              "      <td>Japanese (except Nissan) or Korean</td>\n",
              "      <td>Diesel</td>\n",
              "      <td>Aquitaine</td>\n",
              "      <td>76</td>\n",
              "    </tr>\n",
              "    <tr>\n",
              "      <th>1</th>\n",
              "      <td>2</td>\n",
              "      <td>2</td>\n",
              "      <td>0</td>\n",
              "      <td>0.84</td>\n",
              "      <td>g</td>\n",
              "      <td>0</td>\n",
              "      <td>46</td>\n",
              "      <td>Japanese (except Nissan) or Korean</td>\n",
              "      <td>Diesel</td>\n",
              "      <td>Aquitaine</td>\n",
              "      <td>76</td>\n",
              "    </tr>\n",
              "    <tr>\n",
              "      <th>2</th>\n",
              "      <td>3</td>\n",
              "      <td>3</td>\n",
              "      <td>0</td>\n",
              "      <td>0.52</td>\n",
              "      <td>f</td>\n",
              "      <td>2</td>\n",
              "      <td>38</td>\n",
              "      <td>Japanese (except Nissan) or Korean</td>\n",
              "      <td>Regular</td>\n",
              "      <td>Nord-Pas-de-Calais</td>\n",
              "      <td>3003</td>\n",
              "    </tr>\n",
              "    <tr>\n",
              "      <th>3</th>\n",
              "      <td>4</td>\n",
              "      <td>4</td>\n",
              "      <td>0</td>\n",
              "      <td>0.45</td>\n",
              "      <td>f</td>\n",
              "      <td>2</td>\n",
              "      <td>38</td>\n",
              "      <td>Japanese (except Nissan) or Korean</td>\n",
              "      <td>Regular</td>\n",
              "      <td>Nord-Pas-de-Calais</td>\n",
              "      <td>3003</td>\n",
              "    </tr>\n",
              "    <tr>\n",
              "      <th>4</th>\n",
              "      <td>5</td>\n",
              "      <td>5</td>\n",
              "      <td>0</td>\n",
              "      <td>0.15</td>\n",
              "      <td>g</td>\n",
              "      <td>0</td>\n",
              "      <td>41</td>\n",
              "      <td>Japanese (except Nissan) or Korean</td>\n",
              "      <td>Diesel</td>\n",
              "      <td>Pays-de-la-Loire</td>\n",
              "      <td>60</td>\n",
              "    </tr>\n",
              "  </tbody>\n",
              "</table>\n",
              "</div>"
            ],
            "text/plain": [
              "   Unnamed: 0  PolicyID  ClaimNb  ...      Gas              Region  Density\n",
              "0           1         1        0  ...   Diesel           Aquitaine       76\n",
              "1           2         2        0  ...   Diesel           Aquitaine       76\n",
              "2           3         3        0  ...  Regular  Nord-Pas-de-Calais     3003\n",
              "3           4         4        0  ...  Regular  Nord-Pas-de-Calais     3003\n",
              "4           5         5        0  ...   Diesel    Pays-de-la-Loire       60\n",
              "\n",
              "[5 rows x 11 columns]"
            ]
          },
          "metadata": {},
          "execution_count": 2
        }
      ]
    },
    {
      "cell_type": "code",
      "metadata": {
        "colab": {
          "base_uri": "https://localhost:8080/",
          "height": 297
        },
        "id": "Npw581FNMbDJ",
        "outputId": "288215e2-b704-4005-b04f-4d9ed837ca7b"
      },
      "source": [
        "dat_frq.describe()"
      ],
      "execution_count": 3,
      "outputs": [
        {
          "output_type": "execute_result",
          "data": {
            "text/html": [
              "<div>\n",
              "<style scoped>\n",
              "    .dataframe tbody tr th:only-of-type {\n",
              "        vertical-align: middle;\n",
              "    }\n",
              "\n",
              "    .dataframe tbody tr th {\n",
              "        vertical-align: top;\n",
              "    }\n",
              "\n",
              "    .dataframe thead th {\n",
              "        text-align: right;\n",
              "    }\n",
              "</style>\n",
              "<table border=\"1\" class=\"dataframe\">\n",
              "  <thead>\n",
              "    <tr style=\"text-align: right;\">\n",
              "      <th></th>\n",
              "      <th>Unnamed: 0</th>\n",
              "      <th>PolicyID</th>\n",
              "      <th>ClaimNb</th>\n",
              "      <th>Exposure</th>\n",
              "      <th>CarAge</th>\n",
              "      <th>DriverAge</th>\n",
              "      <th>Density</th>\n",
              "    </tr>\n",
              "  </thead>\n",
              "  <tbody>\n",
              "    <tr>\n",
              "      <th>count</th>\n",
              "      <td>413169.000000</td>\n",
              "      <td>413169.000000</td>\n",
              "      <td>413169.000000</td>\n",
              "      <td>413169.000000</td>\n",
              "      <td>413169.000000</td>\n",
              "      <td>413169.000000</td>\n",
              "      <td>413169.000000</td>\n",
              "    </tr>\n",
              "    <tr>\n",
              "      <th>mean</th>\n",
              "      <td>206585.000000</td>\n",
              "      <td>206585.000000</td>\n",
              "      <td>0.039163</td>\n",
              "      <td>0.561088</td>\n",
              "      <td>7.532404</td>\n",
              "      <td>45.319876</td>\n",
              "      <td>1985.153913</td>\n",
              "    </tr>\n",
              "    <tr>\n",
              "      <th>std</th>\n",
              "      <td>119271.761023</td>\n",
              "      <td>119271.761023</td>\n",
              "      <td>0.204053</td>\n",
              "      <td>0.369477</td>\n",
              "      <td>5.763011</td>\n",
              "      <td>14.328120</td>\n",
              "      <td>4776.254543</td>\n",
              "    </tr>\n",
              "    <tr>\n",
              "      <th>min</th>\n",
              "      <td>1.000000</td>\n",
              "      <td>1.000000</td>\n",
              "      <td>0.000000</td>\n",
              "      <td>0.002732</td>\n",
              "      <td>0.000000</td>\n",
              "      <td>18.000000</td>\n",
              "      <td>2.000000</td>\n",
              "    </tr>\n",
              "    <tr>\n",
              "      <th>25%</th>\n",
              "      <td>103293.000000</td>\n",
              "      <td>103293.000000</td>\n",
              "      <td>0.000000</td>\n",
              "      <td>0.200000</td>\n",
              "      <td>3.000000</td>\n",
              "      <td>34.000000</td>\n",
              "      <td>67.000000</td>\n",
              "    </tr>\n",
              "    <tr>\n",
              "      <th>50%</th>\n",
              "      <td>206585.000000</td>\n",
              "      <td>206585.000000</td>\n",
              "      <td>0.000000</td>\n",
              "      <td>0.540000</td>\n",
              "      <td>7.000000</td>\n",
              "      <td>44.000000</td>\n",
              "      <td>287.000000</td>\n",
              "    </tr>\n",
              "    <tr>\n",
              "      <th>75%</th>\n",
              "      <td>309877.000000</td>\n",
              "      <td>309877.000000</td>\n",
              "      <td>0.000000</td>\n",
              "      <td>1.000000</td>\n",
              "      <td>12.000000</td>\n",
              "      <td>54.000000</td>\n",
              "      <td>1410.000000</td>\n",
              "    </tr>\n",
              "    <tr>\n",
              "      <th>max</th>\n",
              "      <td>413169.000000</td>\n",
              "      <td>413169.000000</td>\n",
              "      <td>4.000000</td>\n",
              "      <td>1.990000</td>\n",
              "      <td>100.000000</td>\n",
              "      <td>99.000000</td>\n",
              "      <td>27000.000000</td>\n",
              "    </tr>\n",
              "  </tbody>\n",
              "</table>\n",
              "</div>"
            ],
            "text/plain": [
              "          Unnamed: 0       PolicyID  ...      DriverAge        Density\n",
              "count  413169.000000  413169.000000  ...  413169.000000  413169.000000\n",
              "mean   206585.000000  206585.000000  ...      45.319876    1985.153913\n",
              "std    119271.761023  119271.761023  ...      14.328120    4776.254543\n",
              "min         1.000000       1.000000  ...      18.000000       2.000000\n",
              "25%    103293.000000  103293.000000  ...      34.000000      67.000000\n",
              "50%    206585.000000  206585.000000  ...      44.000000     287.000000\n",
              "75%    309877.000000  309877.000000  ...      54.000000    1410.000000\n",
              "max    413169.000000  413169.000000  ...      99.000000   27000.000000\n",
              "\n",
              "[8 rows x 7 columns]"
            ]
          },
          "metadata": {},
          "execution_count": 3
        }
      ]
    },
    {
      "cell_type": "code",
      "metadata": {
        "colab": {
          "base_uri": "https://localhost:8080/",
          "height": 235
        },
        "id": "e__rQGGOEfK7",
        "outputId": "76d6e1b6-63be-48d8-979a-c533041cd176"
      },
      "source": [
        "pd.crosstab(index=dat_frq['ClaimNb'], columns=\"count\")"
      ],
      "execution_count": 4,
      "outputs": [
        {
          "output_type": "execute_result",
          "data": {
            "text/html": [
              "<div>\n",
              "<style scoped>\n",
              "    .dataframe tbody tr th:only-of-type {\n",
              "        vertical-align: middle;\n",
              "    }\n",
              "\n",
              "    .dataframe tbody tr th {\n",
              "        vertical-align: top;\n",
              "    }\n",
              "\n",
              "    .dataframe thead th {\n",
              "        text-align: right;\n",
              "    }\n",
              "</style>\n",
              "<table border=\"1\" class=\"dataframe\">\n",
              "  <thead>\n",
              "    <tr style=\"text-align: right;\">\n",
              "      <th>col_0</th>\n",
              "      <th>count</th>\n",
              "    </tr>\n",
              "    <tr>\n",
              "      <th>ClaimNb</th>\n",
              "      <th></th>\n",
              "    </tr>\n",
              "  </thead>\n",
              "  <tbody>\n",
              "    <tr>\n",
              "      <th>0</th>\n",
              "      <td>397779</td>\n",
              "    </tr>\n",
              "    <tr>\n",
              "      <th>1</th>\n",
              "      <td>14633</td>\n",
              "    </tr>\n",
              "    <tr>\n",
              "      <th>2</th>\n",
              "      <td>726</td>\n",
              "    </tr>\n",
              "    <tr>\n",
              "      <th>3</th>\n",
              "      <td>28</td>\n",
              "    </tr>\n",
              "    <tr>\n",
              "      <th>4</th>\n",
              "      <td>3</td>\n",
              "    </tr>\n",
              "  </tbody>\n",
              "</table>\n",
              "</div>"
            ],
            "text/plain": [
              "col_0     count\n",
              "ClaimNb        \n",
              "0        397779\n",
              "1         14633\n",
              "2           726\n",
              "3            28\n",
              "4             3"
            ]
          },
          "metadata": {},
          "execution_count": 4
        }
      ]
    },
    {
      "cell_type": "code",
      "metadata": {
        "colab": {
          "base_uri": "https://localhost:8080/",
          "height": 294
        },
        "id": "tsQ6OdJqMbDK",
        "outputId": "8ef39586-a6e4-4101-bdb7-18efb32ff25a"
      },
      "source": [
        "pd.crosstab(index=dat_frq['ClaimNb'], columns=\"count\").plot(kind='bar')"
      ],
      "execution_count": 5,
      "outputs": [
        {
          "output_type": "execute_result",
          "data": {
            "text/plain": [
              "<matplotlib.axes._subplots.AxesSubplot at 0x7fb5fdaa3590>"
            ]
          },
          "metadata": {},
          "execution_count": 5
        },
        {
          "output_type": "display_data",
          "data": {
            "image/png": "[encoded data removed]",
            "text/plain": [
              "<Figure size 432x288 with 1 Axes>"
            ]
          },
          "metadata": {
            "needs_background": "light"
          }
        }
      ]
    },
    {
      "cell_type": "code",
      "metadata": {
        "colab": {
          "base_uri": "https://localhost:8080/",
          "height": 222
        },
        "id": "hejS5buBMbDL",
        "outputId": "092d91b6-4bdc-4f91-b242-5b8c5397e745"
      },
      "source": [
        "dat_sev = pd.read_csv('ML_656/freMTPLsev.csv')\n",
        "print(dat_sev.shape)\n",
        "dat_sev.head() "
      ],
      "execution_count": 6,
      "outputs": [
        {
          "output_type": "stream",
          "name": "stdout",
          "text": [
            "(16181, 3)\n"
          ]
        },
        {
          "output_type": "execute_result",
          "data": {
            "text/html": [
              "<div>\n",
              "<style scoped>\n",
              "    .dataframe tbody tr th:only-of-type {\n",
              "        vertical-align: middle;\n",
              "    }\n",
              "\n",
              "    .dataframe tbody tr th {\n",
              "        vertical-align: top;\n",
              "    }\n",
              "\n",
              "    .dataframe thead th {\n",
              "        text-align: right;\n",
              "    }\n",
              "</style>\n",
              "<table border=\"1\" class=\"dataframe\">\n",
              "  <thead>\n",
              "    <tr style=\"text-align: right;\">\n",
              "      <th></th>\n",
              "      <th>Unnamed: 0</th>\n",
              "      <th>PolicyID</th>\n",
              "      <th>ClaimAmount</th>\n",
              "    </tr>\n",
              "  </thead>\n",
              "  <tbody>\n",
              "    <tr>\n",
              "      <th>0</th>\n",
              "      <td>1</td>\n",
              "      <td>63987</td>\n",
              "      <td>1172</td>\n",
              "    </tr>\n",
              "    <tr>\n",
              "      <th>1</th>\n",
              "      <td>2</td>\n",
              "      <td>310037</td>\n",
              "      <td>1905</td>\n",
              "    </tr>\n",
              "    <tr>\n",
              "      <th>2</th>\n",
              "      <td>3</td>\n",
              "      <td>314463</td>\n",
              "      <td>1150</td>\n",
              "    </tr>\n",
              "    <tr>\n",
              "      <th>3</th>\n",
              "      <td>4</td>\n",
              "      <td>318713</td>\n",
              "      <td>1220</td>\n",
              "    </tr>\n",
              "    <tr>\n",
              "      <th>4</th>\n",
              "      <td>5</td>\n",
              "      <td>309380</td>\n",
              "      <td>55077</td>\n",
              "    </tr>\n",
              "  </tbody>\n",
              "</table>\n",
              "</div>"
            ],
            "text/plain": [
              "   Unnamed: 0  PolicyID  ClaimAmount\n",
              "0           1     63987         1172\n",
              "1           2    310037         1905\n",
              "2           3    314463         1150\n",
              "3           4    318713         1220\n",
              "4           5    309380        55077"
            ]
          },
          "metadata": {},
          "execution_count": 6
        }
      ]
    },
    {
      "cell_type": "code",
      "metadata": {
        "colab": {
          "base_uri": "https://localhost:8080/",
          "height": 297
        },
        "id": "3Usuf8QDMbDM",
        "outputId": "5e0044cf-fb1a-4d58-b2ca-69613815be1b"
      },
      "source": [
        "dat_sev.describe()"
      ],
      "execution_count": 7,
      "outputs": [
        {
          "output_type": "execute_result",
          "data": {
            "text/html": [
              "<div>\n",
              "<style scoped>\n",
              "    .dataframe tbody tr th:only-of-type {\n",
              "        vertical-align: middle;\n",
              "    }\n",
              "\n",
              "    .dataframe tbody tr th {\n",
              "        vertical-align: top;\n",
              "    }\n",
              "\n",
              "    .dataframe thead th {\n",
              "        text-align: right;\n",
              "    }\n",
              "</style>\n",
              "<table border=\"1\" class=\"dataframe\">\n",
              "  <thead>\n",
              "    <tr style=\"text-align: right;\">\n",
              "      <th></th>\n",
              "      <th>Unnamed: 0</th>\n",
              "      <th>PolicyID</th>\n",
              "      <th>ClaimAmount</th>\n",
              "    </tr>\n",
              "  </thead>\n",
              "  <tbody>\n",
              "    <tr>\n",
              "      <th>count</th>\n",
              "      <td>16181.000000</td>\n",
              "      <td>16181.000000</td>\n",
              "      <td>1.618100e+04</td>\n",
              "    </tr>\n",
              "    <tr>\n",
              "      <th>mean</th>\n",
              "      <td>8091.000000</td>\n",
              "      <td>185015.202151</td>\n",
              "      <td>2.129972e+03</td>\n",
              "    </tr>\n",
              "    <tr>\n",
              "      <th>std</th>\n",
              "      <td>4671.196688</td>\n",
              "      <td>117946.980398</td>\n",
              "      <td>2.106364e+04</td>\n",
              "    </tr>\n",
              "    <tr>\n",
              "      <th>min</th>\n",
              "      <td>1.000000</td>\n",
              "      <td>33.000000</td>\n",
              "      <td>2.000000e+00</td>\n",
              "    </tr>\n",
              "    <tr>\n",
              "      <th>25%</th>\n",
              "      <td>4046.000000</td>\n",
              "      <td>83922.000000</td>\n",
              "      <td>6.980000e+02</td>\n",
              "    </tr>\n",
              "    <tr>\n",
              "      <th>50%</th>\n",
              "      <td>8091.000000</td>\n",
              "      <td>169907.000000</td>\n",
              "      <td>1.156000e+03</td>\n",
              "    </tr>\n",
              "    <tr>\n",
              "      <th>75%</th>\n",
              "      <td>12136.000000</td>\n",
              "      <td>281599.000000</td>\n",
              "      <td>1.243000e+03</td>\n",
              "    </tr>\n",
              "    <tr>\n",
              "      <th>max</th>\n",
              "      <td>16181.000000</td>\n",
              "      <td>412944.000000</td>\n",
              "      <td>2.036833e+06</td>\n",
              "    </tr>\n",
              "  </tbody>\n",
              "</table>\n",
              "</div>"
            ],
            "text/plain": [
              "         Unnamed: 0       PolicyID   ClaimAmount\n",
              "count  16181.000000   16181.000000  1.618100e+04\n",
              "mean    8091.000000  185015.202151  2.129972e+03\n",
              "std     4671.196688  117946.980398  2.106364e+04\n",
              "min        1.000000      33.000000  2.000000e+00\n",
              "25%     4046.000000   83922.000000  6.980000e+02\n",
              "50%     8091.000000  169907.000000  1.156000e+03\n",
              "75%    12136.000000  281599.000000  1.243000e+03\n",
              "max    16181.000000  412944.000000  2.036833e+06"
            ]
          },
          "metadata": {},
          "execution_count": 7
        }
      ]
    },
    {
      "cell_type": "code",
      "metadata": {
        "colab": {
          "base_uri": "https://localhost:8080/",
          "height": 419
        },
        "id": "RGtRhLmeMbDN",
        "outputId": "80e37113-c484-49f7-84c4-d588b5230569"
      },
      "source": [
        "df = dat_sev.groupby('PolicyID', as_index=False).agg({\"ClaimAmount\":\"mean\"})\n",
        "df"
      ],
      "execution_count": 8,
      "outputs": [
        {
          "output_type": "execute_result",
          "data": {
            "text/html": [
              "<div>\n",
              "<style scoped>\n",
              "    .dataframe tbody tr th:only-of-type {\n",
              "        vertical-align: middle;\n",
              "    }\n",
              "\n",
              "    .dataframe tbody tr th {\n",
              "        vertical-align: top;\n",
              "    }\n",
              "\n",
              "    .dataframe thead th {\n",
              "        text-align: right;\n",
              "    }\n",
              "</style>\n",
              "<table border=\"1\" class=\"dataframe\">\n",
              "  <thead>\n",
              "    <tr style=\"text-align: right;\">\n",
              "      <th></th>\n",
              "      <th>PolicyID</th>\n",
              "      <th>ClaimAmount</th>\n",
              "    </tr>\n",
              "  </thead>\n",
              "  <tbody>\n",
              "    <tr>\n",
              "      <th>0</th>\n",
              "      <td>33</td>\n",
              "      <td>302.0</td>\n",
              "    </tr>\n",
              "    <tr>\n",
              "      <th>1</th>\n",
              "      <td>41</td>\n",
              "      <td>2001.0</td>\n",
              "    </tr>\n",
              "    <tr>\n",
              "      <th>2</th>\n",
              "      <td>92</td>\n",
              "      <td>1449.0</td>\n",
              "    </tr>\n",
              "    <tr>\n",
              "      <th>3</th>\n",
              "      <td>96</td>\n",
              "      <td>5435.0</td>\n",
              "    </tr>\n",
              "    <tr>\n",
              "      <th>4</th>\n",
              "      <td>142</td>\n",
              "      <td>1390.0</td>\n",
              "    </tr>\n",
              "    <tr>\n",
              "      <th>...</th>\n",
              "      <td>...</td>\n",
              "      <td>...</td>\n",
              "    </tr>\n",
              "    <tr>\n",
              "      <th>15385</th>\n",
              "      <td>412262</td>\n",
              "      <td>1426.0</td>\n",
              "    </tr>\n",
              "    <tr>\n",
              "      <th>15386</th>\n",
              "      <td>412270</td>\n",
              "      <td>1364.0</td>\n",
              "    </tr>\n",
              "    <tr>\n",
              "      <th>15387</th>\n",
              "      <td>412664</td>\n",
              "      <td>7603.0</td>\n",
              "    </tr>\n",
              "    <tr>\n",
              "      <th>15388</th>\n",
              "      <td>412926</td>\n",
              "      <td>1751.0</td>\n",
              "    </tr>\n",
              "    <tr>\n",
              "      <th>15389</th>\n",
              "      <td>412944</td>\n",
              "      <td>6245.5</td>\n",
              "    </tr>\n",
              "  </tbody>\n",
              "</table>\n",
              "<p>15390 rows × 2 columns</p>\n",
              "</div>"
            ],
            "text/plain": [
              "       PolicyID  ClaimAmount\n",
              "0            33        302.0\n",
              "1            41       2001.0\n",
              "2            92       1449.0\n",
              "3            96       5435.0\n",
              "4           142       1390.0\n",
              "...         ...          ...\n",
              "15385    412262       1426.0\n",
              "15386    412270       1364.0\n",
              "15387    412664       7603.0\n",
              "15388    412926       1751.0\n",
              "15389    412944       6245.5\n",
              "\n",
              "[15390 rows x 2 columns]"
            ]
          },
          "metadata": {},
          "execution_count": 8
        }
      ]
    },
    {
      "cell_type": "code",
      "metadata": {
        "colab": {
          "base_uri": "https://localhost:8080/",
          "height": 476
        },
        "id": "Pga7xTJlMbDO",
        "outputId": "c16ccd9c-f322-4e1a-f587-c73955b65bd9"
      },
      "source": [
        "dat = pd.merge(dat_frq, dat_sev.groupby('PolicyID', as_index=False).agg({\"ClaimAmount\":\"mean\"}),how='left')\n",
        "dat = dat.fillna(0)\n",
        "dat.head()"
      ],
      "execution_count": 9,
      "outputs": [
        {
          "output_type": "execute_result",
          "data": {
            "text/html": [
              "<div>\n",
              "<style scoped>\n",
              "    .dataframe tbody tr th:only-of-type {\n",
              "        vertical-align: middle;\n",
              "    }\n",
              "\n",
              "    .dataframe tbody tr th {\n",
              "        vertical-align: top;\n",
              "    }\n",
              "\n",
              "    .dataframe thead th {\n",
              "        text-align: right;\n",
              "    }\n",
              "</style>\n",
              "<table border=\"1\" class=\"dataframe\">\n",
              "  <thead>\n",
              "    <tr style=\"text-align: right;\">\n",
              "      <th></th>\n",
              "      <th>Unnamed: 0</th>\n",
              "      <th>PolicyID</th>\n",
              "      <th>ClaimNb</th>\n",
              "      <th>Exposure</th>\n",
              "      <th>Power</th>\n",
              "      <th>CarAge</th>\n",
              "      <th>DriverAge</th>\n",
              "      <th>Brand</th>\n",
              "      <th>Gas</th>\n",
              "      <th>Region</th>\n",
              "      <th>Density</th>\n",
              "      <th>ClaimAmount</th>\n",
              "    </tr>\n",
              "  </thead>\n",
              "  <tbody>\n",
              "    <tr>\n",
              "      <th>0</th>\n",
              "      <td>1</td>\n",
              "      <td>1</td>\n",
              "      <td>0</td>\n",
              "      <td>0.09</td>\n",
              "      <td>g</td>\n",
              "      <td>0</td>\n",
              "      <td>46</td>\n",
              "      <td>Japanese (except Nissan) or Korean</td>\n",
              "      <td>Diesel</td>\n",
              "      <td>Aquitaine</td>\n",
              "      <td>76</td>\n",
              "      <td>0.0</td>\n",
              "    </tr>\n",
              "    <tr>\n",
              "      <th>1</th>\n",
              "      <td>2</td>\n",
              "      <td>2</td>\n",
              "      <td>0</td>\n",
              "      <td>0.84</td>\n",
              "      <td>g</td>\n",
              "      <td>0</td>\n",
              "      <td>46</td>\n",
              "      <td>Japanese (except Nissan) or Korean</td>\n",
              "      <td>Diesel</td>\n",
              "      <td>Aquitaine</td>\n",
              "      <td>76</td>\n",
              "      <td>0.0</td>\n",
              "    </tr>\n",
              "    <tr>\n",
              "      <th>2</th>\n",
              "      <td>3</td>\n",
              "      <td>3</td>\n",
              "      <td>0</td>\n",
              "      <td>0.52</td>\n",
              "      <td>f</td>\n",
              "      <td>2</td>\n",
              "      <td>38</td>\n",
              "      <td>Japanese (except Nissan) or Korean</td>\n",
              "      <td>Regular</td>\n",
              "      <td>Nord-Pas-de-Calais</td>\n",
              "      <td>3003</td>\n",
              "      <td>0.0</td>\n",
              "    </tr>\n",
              "    <tr>\n",
              "      <th>3</th>\n",
              "      <td>4</td>\n",
              "      <td>4</td>\n",
              "      <td>0</td>\n",
              "      <td>0.45</td>\n",
              "      <td>f</td>\n",
              "      <td>2</td>\n",
              "      <td>38</td>\n",
              "      <td>Japanese (except Nissan) or Korean</td>\n",
              "      <td>Regular</td>\n",
              "      <td>Nord-Pas-de-Calais</td>\n",
              "      <td>3003</td>\n",
              "      <td>0.0</td>\n",
              "    </tr>\n",
              "    <tr>\n",
              "      <th>4</th>\n",
              "      <td>5</td>\n",
              "      <td>5</td>\n",
              "      <td>0</td>\n",
              "      <td>0.15</td>\n",
              "      <td>g</td>\n",
              "      <td>0</td>\n",
              "      <td>41</td>\n",
              "      <td>Japanese (except Nissan) or Korean</td>\n",
              "      <td>Diesel</td>\n",
              "      <td>Pays-de-la-Loire</td>\n",
              "      <td>60</td>\n",
              "      <td>0.0</td>\n",
              "    </tr>\n",
              "  </tbody>\n",
              "</table>\n",
              "</div>"
            ],
            "text/plain": [
              "   Unnamed: 0  PolicyID  ClaimNb  ...              Region Density  ClaimAmount\n",
              "0           1         1        0  ...           Aquitaine      76          0.0\n",
              "1           2         2        0  ...           Aquitaine      76          0.0\n",
              "2           3         3        0  ...  Nord-Pas-de-Calais    3003          0.0\n",
              "3           4         4        0  ...  Nord-Pas-de-Calais    3003          0.0\n",
              "4           5         5        0  ...    Pays-de-la-Loire      60          0.0\n",
              "\n",
              "[5 rows x 12 columns]"
            ]
          },
          "metadata": {},
          "execution_count": 9
        }
      ]
    },
    {
      "cell_type": "code",
      "metadata": {
        "colab": {
          "base_uri": "https://localhost:8080/",
          "height": 275
        },
        "id": "XGomSaWpG_bl",
        "outputId": "4381591b-4ac7-4a85-ac6c-669695b89247"
      },
      "source": [
        "dummies = pd.get_dummies(dat[dat.columns[[4,7,8,9]]])\n",
        "dat = dat.drop(dat.columns[[0, 1, 4, 7, 8, 9]], axis=1)\n",
        "dat = pd.concat([dat,dummies], axis=1)\n",
        "dat.head()"
      ],
      "execution_count": 10,
      "outputs": [
        {
          "output_type": "execute_result",
          "data": {
            "text/html": [
              "<div>\n",
              "<style scoped>\n",
              "    .dataframe tbody tr th:only-of-type {\n",
              "        vertical-align: middle;\n",
              "    }\n",
              "\n",
              "    .dataframe tbody tr th {\n",
              "        vertical-align: top;\n",
              "    }\n",
              "\n",
              "    .dataframe thead th {\n",
              "        text-align: right;\n",
              "    }\n",
              "</style>\n",
              "<table border=\"1\" class=\"dataframe\">\n",
              "  <thead>\n",
              "    <tr style=\"text-align: right;\">\n",
              "      <th></th>\n",
              "      <th>ClaimNb</th>\n",
              "      <th>Exposure</th>\n",
              "      <th>CarAge</th>\n",
              "      <th>DriverAge</th>\n",
              "      <th>Density</th>\n",
              "      <th>ClaimAmount</th>\n",
              "      <th>Power_d</th>\n",
              "      <th>Power_e</th>\n",
              "      <th>Power_f</th>\n",
              "      <th>Power_g</th>\n",
              "      <th>Power_h</th>\n",
              "      <th>Power_i</th>\n",
              "      <th>Power_j</th>\n",
              "      <th>Power_k</th>\n",
              "      <th>Power_l</th>\n",
              "      <th>Power_m</th>\n",
              "      <th>Power_n</th>\n",
              "      <th>Power_o</th>\n",
              "      <th>Brand_Fiat</th>\n",
              "      <th>Brand_Japanese (except Nissan) or Korean</th>\n",
              "      <th>Brand_Mercedes, Chrysler or BMW</th>\n",
              "      <th>Brand_Opel, General Motors or Ford</th>\n",
              "      <th>Brand_Renault, Nissan or Citroen</th>\n",
              "      <th>Brand_Volkswagen, Audi, Skoda or Seat</th>\n",
              "      <th>Brand_other</th>\n",
              "      <th>Gas_Diesel</th>\n",
              "      <th>Gas_Regular</th>\n",
              "      <th>Region_Aquitaine</th>\n",
              "      <th>Region_Basse-Normandie</th>\n",
              "      <th>Region_Bretagne</th>\n",
              "      <th>Region_Centre</th>\n",
              "      <th>Region_Haute-Normandie</th>\n",
              "      <th>Region_Ile-de-France</th>\n",
              "      <th>Region_Limousin</th>\n",
              "      <th>Region_Nord-Pas-de-Calais</th>\n",
              "      <th>Region_Pays-de-la-Loire</th>\n",
              "      <th>Region_Poitou-Charentes</th>\n",
              "    </tr>\n",
              "  </thead>\n",
              "  <tbody>\n",
              "    <tr>\n",
              "      <th>0</th>\n",
              "      <td>0</td>\n",
              "      <td>0.09</td>\n",
              "      <td>0</td>\n",
              "      <td>46</td>\n",
              "      <td>76</td>\n",
              "      <td>0.0</td>\n",
              "      <td>0</td>\n",
              "      <td>0</td>\n",
              "      <td>0</td>\n",
              "      <td>1</td>\n",
              "      <td>0</td>\n",
              "      <td>0</td>\n",
              "      <td>0</td>\n",
              "      <td>0</td>\n",
              "      <td>0</td>\n",
              "      <td>0</td>\n",
              "      <td>0</td>\n",
              "      <td>0</td>\n",
              "      <td>0</td>\n",
              "      <td>1</td>\n",
              "      <td>0</td>\n",
              "      <td>0</td>\n",
              "      <td>0</td>\n",
              "      <td>0</td>\n",
              "      <td>0</td>\n",
              "      <td>1</td>\n",
              "      <td>0</td>\n",
              "      <td>1</td>\n",
              "      <td>0</td>\n",
              "      <td>0</td>\n",
              "      <td>0</td>\n",
              "      <td>0</td>\n",
              "      <td>0</td>\n",
              "      <td>0</td>\n",
              "      <td>0</td>\n",
              "      <td>0</td>\n",
              "      <td>0</td>\n",
              "    </tr>\n",
              "    <tr>\n",
              "      <th>1</th>\n",
              "      <td>0</td>\n",
              "      <td>0.84</td>\n",
              "      <td>0</td>\n",
              "      <td>46</td>\n",
              "      <td>76</td>\n",
              "      <td>0.0</td>\n",
              "      <td>0</td>\n",
              "      <td>0</td>\n",
              "      <td>0</td>\n",
              "      <td>1</td>\n",
              "      <td>0</td>\n",
              "      <td>0</td>\n",
              "      <td>0</td>\n",
              "      <td>0</td>\n",
              "      <td>0</td>\n",
              "      <td>0</td>\n",
              "      <td>0</td>\n",
              "      <td>0</td>\n",
              "      <td>0</td>\n",
              "      <td>1</td>\n",
              "      <td>0</td>\n",
              "      <td>0</td>\n",
              "      <td>0</td>\n",
              "      <td>0</td>\n",
              "      <td>0</td>\n",
              "      <td>1</td>\n",
              "      <td>0</td>\n",
              "      <td>1</td>\n",
              "      <td>0</td>\n",
              "      <td>0</td>\n",
              "      <td>0</td>\n",
              "      <td>0</td>\n",
              "      <td>0</td>\n",
              "      <td>0</td>\n",
              "      <td>0</td>\n",
              "      <td>0</td>\n",
              "      <td>0</td>\n",
              "    </tr>\n",
              "    <tr>\n",
              "      <th>2</th>\n",
              "      <td>0</td>\n",
              "      <td>0.52</td>\n",
              "      <td>2</td>\n",
              "      <td>38</td>\n",
              "      <td>3003</td>\n",
              "      <td>0.0</td>\n",
              "      <td>0</td>\n",
              "      <td>0</td>\n",
              "      <td>1</td>\n",
              "      <td>0</td>\n",
              "      <td>0</td>\n",
              "      <td>0</td>\n",
              "      <td>0</td>\n",
              "      <td>0</td>\n",
              "      <td>0</td>\n",
              "      <td>0</td>\n",
              "      <td>0</td>\n",
              "      <td>0</td>\n",
              "      <td>0</td>\n",
              "      <td>1</td>\n",
              "      <td>0</td>\n",
              "      <td>0</td>\n",
              "      <td>0</td>\n",
              "      <td>0</td>\n",
              "      <td>0</td>\n",
              "      <td>0</td>\n",
              "      <td>1</td>\n",
              "      <td>0</td>\n",
              "      <td>0</td>\n",
              "      <td>0</td>\n",
              "      <td>0</td>\n",
              "      <td>0</td>\n",
              "      <td>0</td>\n",
              "      <td>0</td>\n",
              "      <td>1</td>\n",
              "      <td>0</td>\n",
              "      <td>0</td>\n",
              "    </tr>\n",
              "    <tr>\n",
              "      <th>3</th>\n",
              "      <td>0</td>\n",
              "      <td>0.45</td>\n",
              "      <td>2</td>\n",
              "      <td>38</td>\n",
              "      <td>3003</td>\n",
              "      <td>0.0</td>\n",
              "      <td>0</td>\n",
              "      <td>0</td>\n",
              "      <td>1</td>\n",
              "      <td>0</td>\n",
              "      <td>0</td>\n",
              "      <td>0</td>\n",
              "      <td>0</td>\n",
              "      <td>0</td>\n",
              "      <td>0</td>\n",
              "      <td>0</td>\n",
              "      <td>0</td>\n",
              "      <td>0</td>\n",
              "      <td>0</td>\n",
              "      <td>1</td>\n",
              "      <td>0</td>\n",
              "      <td>0</td>\n",
              "      <td>0</td>\n",
              "      <td>0</td>\n",
              "      <td>0</td>\n",
              "      <td>0</td>\n",
              "      <td>1</td>\n",
              "      <td>0</td>\n",
              "      <td>0</td>\n",
              "      <td>0</td>\n",
              "      <td>0</td>\n",
              "      <td>0</td>\n",
              "      <td>0</td>\n",
              "      <td>0</td>\n",
              "      <td>1</td>\n",
              "      <td>0</td>\n",
              "      <td>0</td>\n",
              "    </tr>\n",
              "    <tr>\n",
              "      <th>4</th>\n",
              "      <td>0</td>\n",
              "      <td>0.15</td>\n",
              "      <td>0</td>\n",
              "      <td>41</td>\n",
              "      <td>60</td>\n",
              "      <td>0.0</td>\n",
              "      <td>0</td>\n",
              "      <td>0</td>\n",
              "      <td>0</td>\n",
              "      <td>1</td>\n",
              "      <td>0</td>\n",
              "      <td>0</td>\n",
              "      <td>0</td>\n",
              "      <td>0</td>\n",
              "      <td>0</td>\n",
              "      <td>0</td>\n",
              "      <td>0</td>\n",
              "      <td>0</td>\n",
              "      <td>0</td>\n",
              "      <td>1</td>\n",
              "      <td>0</td>\n",
              "      <td>0</td>\n",
              "      <td>0</td>\n",
              "      <td>0</td>\n",
              "      <td>0</td>\n",
              "      <td>1</td>\n",
              "      <td>0</td>\n",
              "      <td>0</td>\n",
              "      <td>0</td>\n",
              "      <td>0</td>\n",
              "      <td>0</td>\n",
              "      <td>0</td>\n",
              "      <td>0</td>\n",
              "      <td>0</td>\n",
              "      <td>0</td>\n",
              "      <td>1</td>\n",
              "      <td>0</td>\n",
              "    </tr>\n",
              "  </tbody>\n",
              "</table>\n",
              "</div>"
            ],
            "text/plain": [
              "   ClaimNb  Exposure  ...  Region_Pays-de-la-Loire  Region_Poitou-Charentes\n",
              "0        0      0.09  ...                        0                        0\n",
              "1        0      0.84  ...                        0                        0\n",
              "2        0      0.52  ...                        0                        0\n",
              "3        0      0.45  ...                        0                        0\n",
              "4        0      0.15  ...                        1                        0\n",
              "\n",
              "[5 rows x 37 columns]"
            ]
          },
          "metadata": {},
          "execution_count": 10
        }
      ]
    },
    {
      "cell_type": "code",
      "metadata": {
        "colab": {
          "base_uri": "https://localhost:8080/",
          "height": 265
        },
        "id": "lLk-Pkk6MbDP",
        "outputId": "6cee0b72-e3fc-469f-cc6d-11d586477a7b"
      },
      "source": [
        "plt.hist(dat['Exposure'])\n",
        "plt.show()"
      ],
      "execution_count": 11,
      "outputs": [
        {
          "output_type": "display_data",
          "data": {
            "image/png": "[encoded data removed]",
            "text/plain": [
              "<Figure size 432x288 with 1 Axes>"
            ]
          },
          "metadata": {
            "needs_background": "light"
          }
        }
      ]
    },
    {
      "cell_type": "code",
      "metadata": {
        "colab": {
          "base_uri": "https://localhost:8080/",
          "height": 265
        },
        "id": "vR7Moc-3MbDQ",
        "outputId": "a1a40337-d05a-4e15-938f-9b719767ab3d"
      },
      "source": [
        "plt.hist(dat['DriverAge'])\n",
        "plt.show()"
      ],
      "execution_count": 12,
      "outputs": [
        {
          "output_type": "display_data",
          "data": {
            "image/png": "[encoded data removed]",
            "text/plain": [
              "<Figure size 432x288 with 1 Axes>"
            ]
          },
          "metadata": {
            "needs_background": "light"
          }
        }
      ]
    },
    {
      "cell_type": "code",
      "metadata": {
        "colab": {
          "base_uri": "https://localhost:8080/",
          "height": 265
        },
        "id": "06d-HUe8MbDR",
        "outputId": "bae65990-0364-4ae9-a40a-1501dff6b20f"
      },
      "source": [
        "plt.hist(dat['CarAge'])\n",
        "plt.show()"
      ],
      "execution_count": 13,
      "outputs": [
        {
          "output_type": "display_data",
          "data": {
            "image/png": "[encoded data removed]",
            "text/plain": [
              "<Figure size 432x288 with 1 Axes>"
            ]
          },
          "metadata": {
            "needs_background": "light"
          }
        }
      ]
    },
    {
      "cell_type": "code",
      "metadata": {
        "colab": {
          "base_uri": "https://localhost:8080/",
          "height": 268
        },
        "id": "bdrgJHVNMbDS",
        "outputId": "c8bdb88f-24ec-4054-9be0-9fde44fed01f"
      },
      "source": [
        "plt.hist(dat['Density'])\n",
        "plt.show()"
      ],
      "execution_count": 14,
      "outputs": [
        {
          "output_type": "display_data",
          "data": {
            "image/png": "[encoded data removed]",
            "text/plain": [
              "<Figure size 432x288 with 1 Axes>"
            ]
          },
          "metadata": {
            "needs_background": "light"
          }
        }
      ]
    },
    {
      "cell_type": "code",
      "metadata": {
        "colab": {
          "base_uri": "https://localhost:8080/",
          "height": 265
        },
        "id": "-q1ivoVPMbDS",
        "outputId": "27e280ed-a40e-4eb9-887d-31c9231a4d9a"
      },
      "source": [
        "dat.loc[:, 'Density'] = np.log(dat['Density'])\n",
        "plt.hist(dat['Density'])\n",
        "plt.show()"
      ],
      "execution_count": 15,
      "outputs": [
        {
          "output_type": "display_data",
          "data": {
            "image/png": "[encoded data removed]",
            "text/plain": [
              "<Figure size 432x288 with 1 Axes>"
            ]
          },
          "metadata": {
            "needs_background": "light"
          }
        }
      ]
    },
    {
      "cell_type": "code",
      "metadata": {
        "colab": {
          "base_uri": "https://localhost:8080/"
        },
        "id": "1C8k2NeuMbDT",
        "outputId": "02b1a2d9-6362-4dba-c25d-9a88c535494e"
      },
      "source": [
        "dat.loc[dat['ClaimAmount']>0,'ClaimAmount'].quantile([.9, .95, .99, .999])"
      ],
      "execution_count": 16,
      "outputs": [
        {
          "output_type": "execute_result",
          "data": {
            "text/plain": [
              "0.900      2583.100\n",
              "0.950      4269.100\n",
              "0.990     16103.355\n",
              "0.999    131058.421\n",
              "Name: ClaimAmount, dtype: float64"
            ]
          },
          "metadata": {},
          "execution_count": 16
        }
      ]
    },
    {
      "cell_type": "code",
      "metadata": {
        "colab": {
          "base_uri": "https://localhost:8080/"
        },
        "id": "WqSAP0adMbDU",
        "outputId": "6543d8a8-84b2-4999-dd19-a5d88497c3a0"
      },
      "source": [
        "dat['ClaimAmount'][dat['ClaimAmount']>50000] = 50000"
      ],
      "execution_count": 17,
      "outputs": [
        {
          "output_type": "stream",
          "name": "stderr",
          "text": [
            "/usr/local/lib/python3.7/dist-packages/ipykernel_launcher.py:1: SettingWithCopyWarning: \n",
            "A value is trying to be set on a copy of a slice from a DataFrame\n",
            "\n",
            "See the caveats in the documentation: https://pandas.pydata.org/pandas-docs/stable/user_guide/indexing.html#returning-a-view-versus-a-copy\n",
            "  \"\"\"Entry point for launching an IPython kernel.\n"
          ]
        }
      ]
    },
    {
      "cell_type": "code",
      "metadata": {
        "id": "TO9-A2vSIWYE"
      },
      "source": [
        "Train, Test = train_test_split(dat, test_size=0.25)\n",
        "Train_y_freq = Train['ClaimNb']\n",
        "Train_y_sev = Train['ClaimAmount']\n",
        "Train_X = Train.drop(columns = ['ClaimNb','ClaimAmount'])\n",
        "Test_y_freq = Test['ClaimNb']\n",
        "Test_y_sev = Test['ClaimAmount']\n",
        "Test_X = Test.drop(columns = ['ClaimNb','ClaimAmount'])\n"
      ],
      "execution_count": 18,
      "outputs": []
    },
    {
      "cell_type": "code",
      "metadata": {
        "colab": {
          "base_uri": "https://localhost:8080/"
        },
        "id": "kjSS_F-lKOxO",
        "outputId": "a94c8ae2-2494-49bd-b600-368dd7021b3c"
      },
      "source": [
        "freqmodel = PoissonRegressor()\n",
        "freqmodel.fit(Train_X,Train_y_freq)\n",
        "preds_Train = freqmodel.predict(Train_X)\n",
        "np.corrcoef(preds_Train,Train_y_freq)"
      ],
      "execution_count": 19,
      "outputs": [
        {
          "output_type": "execute_result",
          "data": {
            "text/plain": [
              "array([[1.        , 0.01764376],\n",
              "       [0.01764376, 1.        ]])"
            ]
          },
          "metadata": {},
          "execution_count": 19
        }
      ]
    },
    {
      "cell_type": "code",
      "metadata": {
        "colab": {
          "base_uri": "https://localhost:8080/",
          "height": 283
        },
        "id": "WfqWyDw-MniH",
        "outputId": "c2f60de7-b6bd-4edc-9a5e-4aebcdf62fee"
      },
      "source": [
        "plt.scatter(Train_y_freq,preds_Train)"
      ],
      "execution_count": 20,
      "outputs": [
        {
          "output_type": "execute_result",
          "data": {
            "text/plain": [
              "<matplotlib.collections.PathCollection at 0x7fb5eb1cdbd0>"
            ]
          },
          "metadata": {},
          "execution_count": 20
        },
        {
          "output_type": "display_data",
          "data": {
            "image/png": "[encoded data removed]",
            "text/plain": [
              "<Figure size 432x288 with 1 Axes>"
            ]
          },
          "metadata": {
            "needs_background": "light"
          }
        }
      ]
    },
    {
      "cell_type": "code",
      "metadata": {
        "colab": {
          "base_uri": "https://localhost:8080/"
        },
        "id": "SHyZwloPL8ZK",
        "outputId": "3e106f89-0eef-4050-d2d9-4e4c159607f7"
      },
      "source": [
        "preds_Test = freqmodel.predict(Test_X)\n",
        "np.corrcoef(preds_Test,Test_y_freq)"
      ],
      "execution_count": 21,
      "outputs": [
        {
          "output_type": "execute_result",
          "data": {
            "text/plain": [
              "array([[1.        , 0.01671338],\n",
              "       [0.01671338, 1.        ]])"
            ]
          },
          "metadata": {},
          "execution_count": 21
        }
      ]
    },
    {
      "cell_type": "code",
      "metadata": {
        "colab": {
          "base_uri": "https://localhost:8080/",
          "height": 283
        },
        "id": "t0CaB_alLXTG",
        "outputId": "ca646b40-51a5-49cd-8ab1-2b2632f23c9f"
      },
      "source": [
        "plt.scatter(Test_y_freq,preds_Test)"
      ],
      "execution_count": 22,
      "outputs": [
        {
          "output_type": "execute_result",
          "data": {
            "text/plain": [
              "<matplotlib.collections.PathCollection at 0x7fb5eb15c550>"
            ]
          },
          "metadata": {},
          "execution_count": 22
        },
        {
          "output_type": "display_data",
          "data": {
            "image/png": "[encoded data removed]",
            "text/plain": [
              "<Figure size 432x288 with 1 Axes>"
            ]
          },
          "metadata": {
            "needs_background": "light"
          }
        }
      ]
    },
    {
      "cell_type": "code",
      "metadata": {
        "colab": {
          "base_uri": "https://localhost:8080/",
          "height": 265
        },
        "id": "h18_spWDMbDW",
        "outputId": "27dad44b-f3d7-4768-9e7b-186532710fc5"
      },
      "source": [
        "plt.hist(dat['ClaimAmount'])\n",
        "plt.show()"
      ],
      "execution_count": 23,
      "outputs": [
        {
          "output_type": "display_data",
          "data": {
            "image/png": "[encoded data removed]",
            "text/plain": [
              "<Figure size 432x288 with 1 Axes>"
            ]
          },
          "metadata": {
            "needs_background": "light"
          }
        }
      ]
    },
    {
      "cell_type": "code",
      "metadata": {
        "colab": {
          "base_uri": "https://localhost:8080/",
          "height": 265
        },
        "id": "7AzVYDaeMbDW",
        "outputId": "2d2c8c6f-29b1-4149-bc3b-91bea0665632"
      },
      "source": [
        "plt.hist(np.log(dat.loc[dat['ClaimAmount']>0,'ClaimAmount']))\n",
        "plt.show()"
      ],
      "execution_count": 24,
      "outputs": [
        {
          "output_type": "display_data",
          "data": {
            "image/png": "[encoded data removed]",
            "text/plain": [
              "<Figure size 432x288 with 1 Axes>"
            ]
          },
          "metadata": {
            "needs_background": "light"
          }
        }
      ]
    },
    {
      "cell_type": "code",
      "metadata": {
        "colab": {
          "base_uri": "https://localhost:8080/",
          "height": 283
        },
        "id": "7QVwGKbcNAT8",
        "outputId": "0a159851-019d-471e-e44d-543660bb3607"
      },
      "source": [
        "Train = Train.loc[Train['ClaimAmount']>0,:]\n",
        "Train_y_sev = Train['ClaimAmount']\n",
        "Train_X = Train.drop(columns = ['ClaimNb','ClaimAmount'])\n",
        "sevmodel = GammaRegressor()\n",
        "sevmodel.fit(Train_X,Train_y_sev)\n",
        "plt.scatter(Train_y_sev,sevmodel.predict(Train_X))"
      ],
      "execution_count": 25,
      "outputs": [
        {
          "output_type": "execute_result",
          "data": {
            "text/plain": [
              "<matplotlib.collections.PathCollection at 0x7fb5eafd1a90>"
            ]
          },
          "metadata": {},
          "execution_count": 25
        },
        {
          "output_type": "display_data",
          "data": {
            "image/png": "[encoded data removed]",
            "text/plain": [
              "<Figure size 432x288 with 1 Axes>"
            ]
          },
          "metadata": {
            "needs_background": "light"
          }
        }
      ]
    },
    {
      "cell_type": "code",
      "metadata": {
        "id": "cNfxc8OjP06W"
      },
      "source": [
        "preds_Test_sev = sevmodel.predict(Test_X)\n",
        "preds_Test_tot = preds_Test * preds_Test_sev"
      ],
      "execution_count": 26,
      "outputs": []
    },
    {
      "cell_type": "code",
      "metadata": {
        "colab": {
          "base_uri": "https://localhost:8080/",
          "height": 283
        },
        "id": "mGRhWTucQVNh",
        "outputId": "9a21835e-241b-4511-ff85-e81e3d1ca15a"
      },
      "source": [
        "plt.scatter(Test_y_freq * Test_y_sev,preds_Test_tot)"
      ],
      "execution_count": 27,
      "outputs": [
        {
          "output_type": "execute_result",
          "data": {
            "text/plain": [
              "<matplotlib.collections.PathCollection at 0x7fb5eaf3bd50>"
            ]
          },
          "metadata": {},
          "execution_count": 27
        },
        {
          "output_type": "display_data",
          "data": {
            "image/png": "[encoded data removed]",
            "text/plain": [
              "<Figure size 432x288 with 1 Axes>"
            ]
          },
          "metadata": {
            "needs_background": "light"
          }
        }
      ]
    },
    {
      "cell_type": "code",
      "metadata": {
        "colab": {
          "base_uri": "https://localhost:8080/"
        },
        "id": "xsDdkGGUQw6p",
        "outputId": "c552c6b1-d656-4490-eb17-cb0ab0a24af0"
      },
      "source": [
        "np.corrcoef(Test_y_freq * Test_y_sev,preds_Test_tot)"
      ],
      "execution_count": 28,
      "outputs": [
        {
          "output_type": "execute_result",
          "data": {
            "text/plain": [
              "array([[ 1.        , -0.00363396],\n",
              "       [-0.00363396,  1.        ]])"
            ]
          },
          "metadata": {},
          "execution_count": 28
        }
      ]
    }
  ]
}